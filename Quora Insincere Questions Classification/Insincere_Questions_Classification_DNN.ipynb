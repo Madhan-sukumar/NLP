{
  "nbformat": 4,
  "nbformat_minor": 0,
  "metadata": {
    "colab": {
      "provenance": [],
      "authorship_tag": "ABX9TyO1sZW+m+we8+5xYcIjzzr8",
      "include_colab_link": true
    },
    "kernelspec": {
      "name": "python3",
      "display_name": "Python 3"
    },
    "language_info": {
      "name": "python"
    }
  },
  "cells": [
    {
      "cell_type": "markdown",
      "metadata": {
        "id": "view-in-github",
        "colab_type": "text"
      },
      "source": [
        "<a href=\"https://colab.research.google.com/github/Madhan-sukumar/NLP/blob/main/Quora%20Insincere%20Questions%20Classification/Insincere_Questions_Classification_DNN.ipynb\" target=\"_parent\"><img src=\"https://colab.research.google.com/assets/colab-badge.svg\" alt=\"Open In Colab\"/></a>"
      ]
    },
    {
      "cell_type": "markdown",
      "source": [
        "## Neural Networks and Embeddings for Natural Language Processing\n",
        "\n",
        "### Problem Statement: \n",
        "\n",
        "An existential problem for any major website today is how to handle toxic and divisive content. Quora wants to tackle this problem head-on to keep their platform a place where users can feel safe sharing their knowledge with the world.To Identify and Flag Insincere Questions asked in Quora using Deep Neural Network Classification Model\n",
        "\n",
        "\n",
        "Dataset: https://www.kaggle.com/c/quora-insincere-questions-classification\n",
        "\n",
        "\n",
        "### File descriptions\n",
        "- train.csv - the training set\n",
        "- test.csv - the test set\n",
        "\n",
        "\n",
        "### Data fields\n",
        "\n",
        "1. qid - unique question identifier\n",
        "2. question_text - Quora question text\n",
        "3. target - a question labeled \"insincere\" has a value of 1, otherwise 0\n",
        "\n",
        "The training data includes the question that was asked, and whether it was identified as insincere (target = 1). The ground-truth labels contain some amount of noise: they are not guaranteed to be perfect."
      ],
      "metadata": {
        "id": "NMmp5hNnusAr"
      }
    },
    {
      "cell_type": "code",
      "execution_count": 1,
      "metadata": {
        "id": "Pp-137yRs0ly"
      },
      "outputs": [],
      "source": [
        "import os"
      ]
    },
    {
      "cell_type": "code",
      "source": [
        "!pwd"
      ],
      "metadata": {
        "colab": {
          "base_uri": "https://localhost:8080/"
        },
        "id": "xw1ZVaE0vnha",
        "outputId": "b6a5a8e2-096f-469b-c00f-3c4a9125c241"
      },
      "execution_count": 2,
      "outputs": [
        {
          "output_type": "stream",
          "name": "stdout",
          "text": [
            "/content\n"
          ]
        }
      ]
    },
    {
      "cell_type": "code",
      "source": [
        "#setting the current diretory for the kaggle to use credentials and to download data\n",
        "os.environ['KAGGLE_CONFIG_DIR'] = '/content'"
      ],
      "metadata": {
        "id": "UQtOLXqKvt4R"
      },
      "execution_count": 3,
      "outputs": []
    },
    {
      "cell_type": "code",
      "source": [
        "#downloading the data from kaggle\n",
        "!kaggle competitions download -c quora-insincere-questions-classification -f train.csv\n",
        "!kaggle competitions download -c quora-insincere-questions-classification -f test.csv "
      ],
      "metadata": {
        "colab": {
          "base_uri": "https://localhost:8080/"
        },
        "id": "0UNl8wz5wNbN",
        "outputId": "23c95aa5-aaae-4b23-ac63-ba2f893c3a1c"
      },
      "execution_count": 4,
      "outputs": [
        {
          "output_type": "stream",
          "name": "stdout",
          "text": [
            "Warning: Your Kaggle API key is readable by other users on this system! To fix this, you can run 'chmod 600 /content/kaggle.json'\n",
            "Downloading train.csv.zip to /content\n",
            " 89% 49.0M/54.9M [00:00<00:00, 65.3MB/s]\n",
            "100% 54.9M/54.9M [00:00<00:00, 68.3MB/s]\n",
            "Warning: Your Kaggle API key is readable by other users on this system! To fix this, you can run 'chmod 600 /content/kaggle.json'\n",
            "Downloading test.csv.zip to /content\n",
            " 63% 10.0M/15.8M [00:00<00:00, 35.9MB/s]\n",
            "100% 15.8M/15.8M [00:00<00:00, 53.1MB/s]\n"
          ]
        }
      ]
    },
    {
      "cell_type": "code",
      "source": [
        "#storing the files\n",
        "train_fname = '/content/train.csv.zip'\n",
        "test_fname = '/content/test.csv.zip'"
      ],
      "metadata": {
        "id": "Q057do27wag6"
      },
      "execution_count": 5,
      "outputs": []
    },
    {
      "cell_type": "markdown",
      "source": [
        "## Data Loading"
      ],
      "metadata": {
        "id": "48KYAKMUw8H4"
      }
    },
    {
      "cell_type": "code",
      "source": [
        "import numpy as np\n",
        "import pandas as pd"
      ],
      "metadata": {
        "id": "CIU7yzzXwwqz"
      },
      "execution_count": 70,
      "outputs": []
    },
    {
      "cell_type": "code",
      "source": [
        "raw_df = pd.read_csv(train_fname)\n",
        "test_df = pd.read_csv(test_fname)"
      ],
      "metadata": {
        "id": "RjOMesT_w-U-"
      },
      "execution_count": 7,
      "outputs": []
    },
    {
      "cell_type": "code",
      "source": [
        "raw_df.head()"
      ],
      "metadata": {
        "colab": {
          "base_uri": "https://localhost:8080/",
          "height": 206
        },
        "id": "TdVfuatqxK4u",
        "outputId": "079f350a-91a4-48a8-88c5-653d62e1adc5"
      },
      "execution_count": 8,
      "outputs": [
        {
          "output_type": "execute_result",
          "data": {
            "text/plain": [
              "                    qid                                      question_text  \\\n",
              "0  00002165364db923c7e6  How did Quebec nationalists see their province...   \n",
              "1  000032939017120e6e44  Do you have an adopted dog, how would you enco...   \n",
              "2  0000412ca6e4628ce2cf  Why does velocity affect time? Does velocity a...   \n",
              "3  000042bf85aa498cd78e  How did Otto von Guericke used the Magdeburg h...   \n",
              "4  0000455dfa3e01eae3af  Can I convert montra helicon D to a mountain b...   \n",
              "\n",
              "   target  \n",
              "0       0  \n",
              "1       0  \n",
              "2       0  \n",
              "3       0  \n",
              "4       0  "
            ],
            "text/html": [
              "\n",
              "  <div id=\"df-c6240a6a-b078-4940-b472-6a7c9f904e22\">\n",
              "    <div class=\"colab-df-container\">\n",
              "      <div>\n",
              "<style scoped>\n",
              "    .dataframe tbody tr th:only-of-type {\n",
              "        vertical-align: middle;\n",
              "    }\n",
              "\n",
              "    .dataframe tbody tr th {\n",
              "        vertical-align: top;\n",
              "    }\n",
              "\n",
              "    .dataframe thead th {\n",
              "        text-align: right;\n",
              "    }\n",
              "</style>\n",
              "<table border=\"1\" class=\"dataframe\">\n",
              "  <thead>\n",
              "    <tr style=\"text-align: right;\">\n",
              "      <th></th>\n",
              "      <th>qid</th>\n",
              "      <th>question_text</th>\n",
              "      <th>target</th>\n",
              "    </tr>\n",
              "  </thead>\n",
              "  <tbody>\n",
              "    <tr>\n",
              "      <th>0</th>\n",
              "      <td>00002165364db923c7e6</td>\n",
              "      <td>How did Quebec nationalists see their province...</td>\n",
              "      <td>0</td>\n",
              "    </tr>\n",
              "    <tr>\n",
              "      <th>1</th>\n",
              "      <td>000032939017120e6e44</td>\n",
              "      <td>Do you have an adopted dog, how would you enco...</td>\n",
              "      <td>0</td>\n",
              "    </tr>\n",
              "    <tr>\n",
              "      <th>2</th>\n",
              "      <td>0000412ca6e4628ce2cf</td>\n",
              "      <td>Why does velocity affect time? Does velocity a...</td>\n",
              "      <td>0</td>\n",
              "    </tr>\n",
              "    <tr>\n",
              "      <th>3</th>\n",
              "      <td>000042bf85aa498cd78e</td>\n",
              "      <td>How did Otto von Guericke used the Magdeburg h...</td>\n",
              "      <td>0</td>\n",
              "    </tr>\n",
              "    <tr>\n",
              "      <th>4</th>\n",
              "      <td>0000455dfa3e01eae3af</td>\n",
              "      <td>Can I convert montra helicon D to a mountain b...</td>\n",
              "      <td>0</td>\n",
              "    </tr>\n",
              "  </tbody>\n",
              "</table>\n",
              "</div>\n",
              "      <button class=\"colab-df-convert\" onclick=\"convertToInteractive('df-c6240a6a-b078-4940-b472-6a7c9f904e22')\"\n",
              "              title=\"Convert this dataframe to an interactive table.\"\n",
              "              style=\"display:none;\">\n",
              "        \n",
              "  <svg xmlns=\"http://www.w3.org/2000/svg\" height=\"24px\"viewBox=\"0 0 24 24\"\n",
              "       width=\"24px\">\n",
              "    <path d=\"M0 0h24v24H0V0z\" fill=\"none\"/>\n",
              "    <path d=\"M18.56 5.44l.94 2.06.94-2.06 2.06-.94-2.06-.94-.94-2.06-.94 2.06-2.06.94zm-11 1L8.5 8.5l.94-2.06 2.06-.94-2.06-.94L8.5 2.5l-.94 2.06-2.06.94zm10 10l.94 2.06.94-2.06 2.06-.94-2.06-.94-.94-2.06-.94 2.06-2.06.94z\"/><path d=\"M17.41 7.96l-1.37-1.37c-.4-.4-.92-.59-1.43-.59-.52 0-1.04.2-1.43.59L10.3 9.45l-7.72 7.72c-.78.78-.78 2.05 0 2.83L4 21.41c.39.39.9.59 1.41.59.51 0 1.02-.2 1.41-.59l7.78-7.78 2.81-2.81c.8-.78.8-2.07 0-2.86zM5.41 20L4 18.59l7.72-7.72 1.47 1.35L5.41 20z\"/>\n",
              "  </svg>\n",
              "      </button>\n",
              "      \n",
              "  <style>\n",
              "    .colab-df-container {\n",
              "      display:flex;\n",
              "      flex-wrap:wrap;\n",
              "      gap: 12px;\n",
              "    }\n",
              "\n",
              "    .colab-df-convert {\n",
              "      background-color: #E8F0FE;\n",
              "      border: none;\n",
              "      border-radius: 50%;\n",
              "      cursor: pointer;\n",
              "      display: none;\n",
              "      fill: #1967D2;\n",
              "      height: 32px;\n",
              "      padding: 0 0 0 0;\n",
              "      width: 32px;\n",
              "    }\n",
              "\n",
              "    .colab-df-convert:hover {\n",
              "      background-color: #E2EBFA;\n",
              "      box-shadow: 0px 1px 2px rgba(60, 64, 67, 0.3), 0px 1px 3px 1px rgba(60, 64, 67, 0.15);\n",
              "      fill: #174EA6;\n",
              "    }\n",
              "\n",
              "    [theme=dark] .colab-df-convert {\n",
              "      background-color: #3B4455;\n",
              "      fill: #D2E3FC;\n",
              "    }\n",
              "\n",
              "    [theme=dark] .colab-df-convert:hover {\n",
              "      background-color: #434B5C;\n",
              "      box-shadow: 0px 1px 3px 1px rgba(0, 0, 0, 0.15);\n",
              "      filter: drop-shadow(0px 1px 2px rgba(0, 0, 0, 0.3));\n",
              "      fill: #FFFFFF;\n",
              "    }\n",
              "  </style>\n",
              "\n",
              "      <script>\n",
              "        const buttonEl =\n",
              "          document.querySelector('#df-c6240a6a-b078-4940-b472-6a7c9f904e22 button.colab-df-convert');\n",
              "        buttonEl.style.display =\n",
              "          google.colab.kernel.accessAllowed ? 'block' : 'none';\n",
              "\n",
              "        async function convertToInteractive(key) {\n",
              "          const element = document.querySelector('#df-c6240a6a-b078-4940-b472-6a7c9f904e22');\n",
              "          const dataTable =\n",
              "            await google.colab.kernel.invokeFunction('convertToInteractive',\n",
              "                                                     [key], {});\n",
              "          if (!dataTable) return;\n",
              "\n",
              "          const docLinkHtml = 'Like what you see? Visit the ' +\n",
              "            '<a target=\"_blank\" href=https://colab.research.google.com/notebooks/data_table.ipynb>data table notebook</a>'\n",
              "            + ' to learn more about interactive tables.';\n",
              "          element.innerHTML = '';\n",
              "          dataTable['output_type'] = 'display_data';\n",
              "          await google.colab.output.renderOutput(dataTable, element);\n",
              "          const docLink = document.createElement('div');\n",
              "          docLink.innerHTML = docLinkHtml;\n",
              "          element.appendChild(docLink);\n",
              "        }\n",
              "      </script>\n",
              "    </div>\n",
              "  </div>\n",
              "  "
            ]
          },
          "metadata": {},
          "execution_count": 8
        }
      ]
    },
    {
      "cell_type": "code",
      "source": [
        "test_df.head()"
      ],
      "metadata": {
        "colab": {
          "base_uri": "https://localhost:8080/",
          "height": 206
        },
        "id": "-WvE9iRBxOQa",
        "outputId": "eef160f5-9a45-4a0b-e4ad-e998b9374ed2"
      },
      "execution_count": 9,
      "outputs": [
        {
          "output_type": "execute_result",
          "data": {
            "text/plain": [
              "                    qid                                      question_text\n",
              "0  0000163e3ea7c7a74cd7  Why do so many women become so rude and arroga...\n",
              "1  00002bd4fb5d505b9161  When should I apply for RV college of engineer...\n",
              "2  00007756b4a147d2b0b3  What is it really like to be a nurse practitio...\n",
              "3  000086e4b7e1c7146103                             Who are entrepreneurs?\n",
              "4  0000c4c3fbe8785a3090   Is education really making good people nowadays?"
            ],
            "text/html": [
              "\n",
              "  <div id=\"df-2138e6d5-d73b-4357-bf0b-027dd746d63a\">\n",
              "    <div class=\"colab-df-container\">\n",
              "      <div>\n",
              "<style scoped>\n",
              "    .dataframe tbody tr th:only-of-type {\n",
              "        vertical-align: middle;\n",
              "    }\n",
              "\n",
              "    .dataframe tbody tr th {\n",
              "        vertical-align: top;\n",
              "    }\n",
              "\n",
              "    .dataframe thead th {\n",
              "        text-align: right;\n",
              "    }\n",
              "</style>\n",
              "<table border=\"1\" class=\"dataframe\">\n",
              "  <thead>\n",
              "    <tr style=\"text-align: right;\">\n",
              "      <th></th>\n",
              "      <th>qid</th>\n",
              "      <th>question_text</th>\n",
              "    </tr>\n",
              "  </thead>\n",
              "  <tbody>\n",
              "    <tr>\n",
              "      <th>0</th>\n",
              "      <td>0000163e3ea7c7a74cd7</td>\n",
              "      <td>Why do so many women become so rude and arroga...</td>\n",
              "    </tr>\n",
              "    <tr>\n",
              "      <th>1</th>\n",
              "      <td>00002bd4fb5d505b9161</td>\n",
              "      <td>When should I apply for RV college of engineer...</td>\n",
              "    </tr>\n",
              "    <tr>\n",
              "      <th>2</th>\n",
              "      <td>00007756b4a147d2b0b3</td>\n",
              "      <td>What is it really like to be a nurse practitio...</td>\n",
              "    </tr>\n",
              "    <tr>\n",
              "      <th>3</th>\n",
              "      <td>000086e4b7e1c7146103</td>\n",
              "      <td>Who are entrepreneurs?</td>\n",
              "    </tr>\n",
              "    <tr>\n",
              "      <th>4</th>\n",
              "      <td>0000c4c3fbe8785a3090</td>\n",
              "      <td>Is education really making good people nowadays?</td>\n",
              "    </tr>\n",
              "  </tbody>\n",
              "</table>\n",
              "</div>\n",
              "      <button class=\"colab-df-convert\" onclick=\"convertToInteractive('df-2138e6d5-d73b-4357-bf0b-027dd746d63a')\"\n",
              "              title=\"Convert this dataframe to an interactive table.\"\n",
              "              style=\"display:none;\">\n",
              "        \n",
              "  <svg xmlns=\"http://www.w3.org/2000/svg\" height=\"24px\"viewBox=\"0 0 24 24\"\n",
              "       width=\"24px\">\n",
              "    <path d=\"M0 0h24v24H0V0z\" fill=\"none\"/>\n",
              "    <path d=\"M18.56 5.44l.94 2.06.94-2.06 2.06-.94-2.06-.94-.94-2.06-.94 2.06-2.06.94zm-11 1L8.5 8.5l.94-2.06 2.06-.94-2.06-.94L8.5 2.5l-.94 2.06-2.06.94zm10 10l.94 2.06.94-2.06 2.06-.94-2.06-.94-.94-2.06-.94 2.06-2.06.94z\"/><path d=\"M17.41 7.96l-1.37-1.37c-.4-.4-.92-.59-1.43-.59-.52 0-1.04.2-1.43.59L10.3 9.45l-7.72 7.72c-.78.78-.78 2.05 0 2.83L4 21.41c.39.39.9.59 1.41.59.51 0 1.02-.2 1.41-.59l7.78-7.78 2.81-2.81c.8-.78.8-2.07 0-2.86zM5.41 20L4 18.59l7.72-7.72 1.47 1.35L5.41 20z\"/>\n",
              "  </svg>\n",
              "      </button>\n",
              "      \n",
              "  <style>\n",
              "    .colab-df-container {\n",
              "      display:flex;\n",
              "      flex-wrap:wrap;\n",
              "      gap: 12px;\n",
              "    }\n",
              "\n",
              "    .colab-df-convert {\n",
              "      background-color: #E8F0FE;\n",
              "      border: none;\n",
              "      border-radius: 50%;\n",
              "      cursor: pointer;\n",
              "      display: none;\n",
              "      fill: #1967D2;\n",
              "      height: 32px;\n",
              "      padding: 0 0 0 0;\n",
              "      width: 32px;\n",
              "    }\n",
              "\n",
              "    .colab-df-convert:hover {\n",
              "      background-color: #E2EBFA;\n",
              "      box-shadow: 0px 1px 2px rgba(60, 64, 67, 0.3), 0px 1px 3px 1px rgba(60, 64, 67, 0.15);\n",
              "      fill: #174EA6;\n",
              "    }\n",
              "\n",
              "    [theme=dark] .colab-df-convert {\n",
              "      background-color: #3B4455;\n",
              "      fill: #D2E3FC;\n",
              "    }\n",
              "\n",
              "    [theme=dark] .colab-df-convert:hover {\n",
              "      background-color: #434B5C;\n",
              "      box-shadow: 0px 1px 3px 1px rgba(0, 0, 0, 0.15);\n",
              "      filter: drop-shadow(0px 1px 2px rgba(0, 0, 0, 0.3));\n",
              "      fill: #FFFFFF;\n",
              "    }\n",
              "  </style>\n",
              "\n",
              "      <script>\n",
              "        const buttonEl =\n",
              "          document.querySelector('#df-2138e6d5-d73b-4357-bf0b-027dd746d63a button.colab-df-convert');\n",
              "        buttonEl.style.display =\n",
              "          google.colab.kernel.accessAllowed ? 'block' : 'none';\n",
              "\n",
              "        async function convertToInteractive(key) {\n",
              "          const element = document.querySelector('#df-2138e6d5-d73b-4357-bf0b-027dd746d63a');\n",
              "          const dataTable =\n",
              "            await google.colab.kernel.invokeFunction('convertToInteractive',\n",
              "                                                     [key], {});\n",
              "          if (!dataTable) return;\n",
              "\n",
              "          const docLinkHtml = 'Like what you see? Visit the ' +\n",
              "            '<a target=\"_blank\" href=https://colab.research.google.com/notebooks/data_table.ipynb>data table notebook</a>'\n",
              "            + ' to learn more about interactive tables.';\n",
              "          element.innerHTML = '';\n",
              "          dataTable['output_type'] = 'display_data';\n",
              "          await google.colab.output.renderOutput(dataTable, element);\n",
              "          const docLink = document.createElement('div');\n",
              "          docLink.innerHTML = docLinkHtml;\n",
              "          element.appendChild(docLink);\n",
              "        }\n",
              "      </script>\n",
              "    </div>\n",
              "  </div>\n",
              "  "
            ]
          },
          "metadata": {},
          "execution_count": 9
        }
      ]
    },
    {
      "cell_type": "code",
      "source": [
        "raw_df.info()"
      ],
      "metadata": {
        "colab": {
          "base_uri": "https://localhost:8080/"
        },
        "id": "l5YxOjxcxQ6e",
        "outputId": "638fbbd7-bb18-48ca-c3c8-a9648756109b"
      },
      "execution_count": 10,
      "outputs": [
        {
          "output_type": "stream",
          "name": "stdout",
          "text": [
            "<class 'pandas.core.frame.DataFrame'>\n",
            "RangeIndex: 1306122 entries, 0 to 1306121\n",
            "Data columns (total 3 columns):\n",
            " #   Column         Non-Null Count    Dtype \n",
            "---  ------         --------------    ----- \n",
            " 0   qid            1306122 non-null  object\n",
            " 1   question_text  1306122 non-null  object\n",
            " 2   target         1306122 non-null  int64 \n",
            "dtypes: int64(1), object(2)\n",
            "memory usage: 29.9+ MB\n"
          ]
        }
      ]
    },
    {
      "cell_type": "code",
      "source": [
        "#shape of raw dataframe\n",
        "raw_df.shape"
      ],
      "metadata": {
        "colab": {
          "base_uri": "https://localhost:8080/"
        },
        "id": "WZLTehXhxgKP",
        "outputId": "dcee2b74-1612-4e7d-9d99-ca26ce3bdddc"
      },
      "execution_count": 11,
      "outputs": [
        {
          "output_type": "execute_result",
          "data": {
            "text/plain": [
              "(1306122, 3)"
            ]
          },
          "metadata": {},
          "execution_count": 11
        }
      ]
    },
    {
      "cell_type": "code",
      "source": [
        "#shape of test dataframe\n",
        "test_df.shape"
      ],
      "metadata": {
        "colab": {
          "base_uri": "https://localhost:8080/"
        },
        "id": "kvvWGr6txiZ_",
        "outputId": "1fa73403-e856-4ca0-a8d8-6c106f798392"
      },
      "execution_count": 12,
      "outputs": [
        {
          "output_type": "execute_result",
          "data": {
            "text/plain": [
              "(375806, 2)"
            ]
          },
          "metadata": {},
          "execution_count": 12
        }
      ]
    },
    {
      "cell_type": "markdown",
      "source": [
        "Having a 300K number of rows, So we taking 100000 rows as a sample data"
      ],
      "metadata": {
        "id": "wIPsLVGk9vsM"
      }
    },
    {
      "cell_type": "code",
      "source": [
        "sample_size = 100_000\n",
        "sample_df = raw_df.sample(sample_size)"
      ],
      "metadata": {
        "id": "wfblIQwTxvTW"
      },
      "execution_count": 13,
      "outputs": []
    },
    {
      "cell_type": "code",
      "source": [
        "sample_df.shape"
      ],
      "metadata": {
        "colab": {
          "base_uri": "https://localhost:8080/"
        },
        "id": "PIZhGAzJ98M7",
        "outputId": "86b6ef52-89e8-4482-994d-7518b12f064d"
      },
      "execution_count": 14,
      "outputs": [
        {
          "output_type": "execute_result",
          "data": {
            "text/plain": [
              "(100000, 3)"
            ]
          },
          "metadata": {},
          "execution_count": 14
        }
      ]
    },
    {
      "cell_type": "code",
      "source": [
        "sample_df.target.value_counts(normalize = True)"
      ],
      "metadata": {
        "colab": {
          "base_uri": "https://localhost:8080/"
        },
        "id": "5AVrmbVZ99b7",
        "outputId": "7d8f48d8-bd78-41b7-933c-ede64ecdec6d"
      },
      "execution_count": 15,
      "outputs": [
        {
          "output_type": "execute_result",
          "data": {
            "text/plain": [
              "0    0.93758\n",
              "1    0.06242\n",
              "Name: target, dtype: float64"
            ]
          },
          "metadata": {},
          "execution_count": 15
        }
      ]
    },
    {
      "cell_type": "markdown",
      "source": [
        "From the sampled target attribute, can see that the data is imbalanced with the classes "
      ],
      "metadata": {
        "id": "8V2wq8K0-P9v"
      }
    },
    {
      "cell_type": "markdown",
      "source": [
        "## Prepare Data for Training\n",
        "\n",
        "#### Outline:\n",
        "\n",
        "1. Convert text to TF-IDF Vectors\n",
        "2. Split training & validation set\n",
        "3. Convert to PyTorch tensors"
      ],
      "metadata": {
        "id": "w-z8OjjJCCrn"
      }
    },
    {
      "cell_type": "markdown",
      "source": [
        "### Convert Text to TF-IDF Vectors"
      ],
      "metadata": {
        "id": "bsmqAc5_CQ34"
      }
    },
    {
      "cell_type": "code",
      "source": [
        "import nltk\n",
        "nltk.download('punkt')\n",
        "\n",
        "#tokenization\n",
        "from nltk.tokenize import word_tokenize\n",
        "\n",
        "#stemming\n",
        "from nltk.stem.snowball import SnowballStemmer\n",
        "\n",
        "#stopwords\n",
        "from nltk.corpus import stopwords \n",
        "nltk.download('stopwords')\n",
        "\n",
        "#vectorizer\n",
        "from sklearn.feature_extraction.text import TfidfVectorizer"
      ],
      "metadata": {
        "colab": {
          "base_uri": "https://localhost:8080/"
        },
        "id": "W2ktaobJHc2q",
        "outputId": "4e6c3511-c005-4de1-a4e8-6da79f0daa07"
      },
      "execution_count": 16,
      "outputs": [
        {
          "output_type": "stream",
          "name": "stderr",
          "text": [
            "[nltk_data] Downloading package punkt to /root/nltk_data...\n",
            "[nltk_data]   Unzipping tokenizers/punkt.zip.\n",
            "[nltk_data] Downloading package stopwords to /root/nltk_data...\n",
            "[nltk_data]   Unzipping corpora/stopwords.zip.\n"
          ]
        }
      ]
    },
    {
      "cell_type": "code",
      "source": [
        "#iniitiating stemmer\n",
        "stemmer = SnowballStemmer(\"english\")"
      ],
      "metadata": {
        "id": "qLbWj6sEHcy-"
      },
      "execution_count": 17,
      "outputs": []
    },
    {
      "cell_type": "code",
      "source": [
        "#creating a function for stemming and tokenization\n",
        "def tokenize(text):\n",
        "  return [stemmer.stem(word) for word in word_tokenize(text)]"
      ],
      "metadata": {
        "id": "LGA22qyP-F8o"
      },
      "execution_count": 18,
      "outputs": []
    },
    {
      "cell_type": "code",
      "source": [
        "#stopwords\n",
        "stop_words = stopwords.words('english')\n",
        "print(stop_words)\n",
        "print(len(stop_words))"
      ],
      "metadata": {
        "colab": {
          "base_uri": "https://localhost:8080/"
        },
        "id": "E2-XuxBlOLhp",
        "outputId": "ab88bf98-66d2-4646-f5ce-4e7f2a1738fd"
      },
      "execution_count": 19,
      "outputs": [
        {
          "output_type": "stream",
          "name": "stdout",
          "text": [
            "['i', 'me', 'my', 'myself', 'we', 'our', 'ours', 'ourselves', 'you', \"you're\", \"you've\", \"you'll\", \"you'd\", 'your', 'yours', 'yourself', 'yourselves', 'he', 'him', 'his', 'himself', 'she', \"she's\", 'her', 'hers', 'herself', 'it', \"it's\", 'its', 'itself', 'they', 'them', 'their', 'theirs', 'themselves', 'what', 'which', 'who', 'whom', 'this', 'that', \"that'll\", 'these', 'those', 'am', 'is', 'are', 'was', 'were', 'be', 'been', 'being', 'have', 'has', 'had', 'having', 'do', 'does', 'did', 'doing', 'a', 'an', 'the', 'and', 'but', 'if', 'or', 'because', 'as', 'until', 'while', 'of', 'at', 'by', 'for', 'with', 'about', 'against', 'between', 'into', 'through', 'during', 'before', 'after', 'above', 'below', 'to', 'from', 'up', 'down', 'in', 'out', 'on', 'off', 'over', 'under', 'again', 'further', 'then', 'once', 'here', 'there', 'when', 'where', 'why', 'how', 'all', 'any', 'both', 'each', 'few', 'more', 'most', 'other', 'some', 'such', 'no', 'nor', 'not', 'only', 'own', 'same', 'so', 'than', 'too', 'very', 's', 't', 'can', 'will', 'just', 'don', \"don't\", 'should', \"should've\", 'now', 'd', 'll', 'm', 'o', 're', 've', 'y', 'ain', 'aren', \"aren't\", 'couldn', \"couldn't\", 'didn', \"didn't\", 'doesn', \"doesn't\", 'hadn', \"hadn't\", 'hasn', \"hasn't\", 'haven', \"haven't\", 'isn', \"isn't\", 'ma', 'mightn', \"mightn't\", 'mustn', \"mustn't\", 'needn', \"needn't\", 'shan', \"shan't\", 'shouldn', \"shouldn't\", 'wasn', \"wasn't\", 'weren', \"weren't\", 'won', \"won't\", 'wouldn', \"wouldn't\"]\n",
            "179\n"
          ]
        }
      ]
    },
    {
      "cell_type": "code",
      "source": [
        "Vectorizer = TfidfVectorizer(tokenizer=tokenize, stop_words = stop_words, max_features = 1000 )"
      ],
      "metadata": {
        "id": "KKF1ogJbGGuo"
      },
      "execution_count": 20,
      "outputs": []
    },
    {
      "cell_type": "code",
      "source": [
        "sample_df"
      ],
      "metadata": {
        "colab": {
          "base_uri": "https://localhost:8080/",
          "height": 423
        },
        "id": "XA9TLB01Re2R",
        "outputId": "0cddbc16-cf6c-4a4a-a9b4-4c44ecf188eb"
      },
      "execution_count": 21,
      "outputs": [
        {
          "output_type": "execute_result",
          "data": {
            "text/plain": [
              "                         qid  \\\n",
              "814528  9f99c5dbfef56cea445d   \n",
              "429604  5430f9560980e2b65464   \n",
              "279003  369c2a0f5459d74f2bcc   \n",
              "189256  2502901ffdccc2ab378b   \n",
              "856140  a7bcc0fac297092e3bb0   \n",
              "...                      ...   \n",
              "783039  99656974d3d2e7552d02   \n",
              "344120  436b4352d5e3f584ceee   \n",
              "59405   0ba611427e3e281897d6   \n",
              "733873  8fbc5d181cae6681abdd   \n",
              "503728  62a112d9bba2222101a7   \n",
              "\n",
              "                                            question_text  target  \n",
              "814528  Why do many seem to feel Barack Obama was a go...       0  \n",
              "429604      What are fun things to do in Werfen, Austria?       0  \n",
              "279003  How do y’all think Michael Jackson would’ve re...       0  \n",
              "189256                How is the best way to get HR jobs?       0  \n",
              "856140           How can I manage time with lot of works?       0  \n",
              "...                                                   ...     ...  \n",
              "783039  Does lightning strike you when using a mobile ...       0  \n",
              "344120  Does a single atom in a perfect vacuum have a ...       0  \n",
              "59405        What is the best job for women in Hyderabad?       0  \n",
              "733873  What seemingly insignificant thing would you m...       0  \n",
              "503728  Can a Filipino wear a black wedding gown in Ca...       0  \n",
              "\n",
              "[100000 rows x 3 columns]"
            ],
            "text/html": [
              "\n",
              "  <div id=\"df-85fc00cb-01ff-47bf-a415-22478878f765\">\n",
              "    <div class=\"colab-df-container\">\n",
              "      <div>\n",
              "<style scoped>\n",
              "    .dataframe tbody tr th:only-of-type {\n",
              "        vertical-align: middle;\n",
              "    }\n",
              "\n",
              "    .dataframe tbody tr th {\n",
              "        vertical-align: top;\n",
              "    }\n",
              "\n",
              "    .dataframe thead th {\n",
              "        text-align: right;\n",
              "    }\n",
              "</style>\n",
              "<table border=\"1\" class=\"dataframe\">\n",
              "  <thead>\n",
              "    <tr style=\"text-align: right;\">\n",
              "      <th></th>\n",
              "      <th>qid</th>\n",
              "      <th>question_text</th>\n",
              "      <th>target</th>\n",
              "    </tr>\n",
              "  </thead>\n",
              "  <tbody>\n",
              "    <tr>\n",
              "      <th>814528</th>\n",
              "      <td>9f99c5dbfef56cea445d</td>\n",
              "      <td>Why do many seem to feel Barack Obama was a go...</td>\n",
              "      <td>0</td>\n",
              "    </tr>\n",
              "    <tr>\n",
              "      <th>429604</th>\n",
              "      <td>5430f9560980e2b65464</td>\n",
              "      <td>What are fun things to do in Werfen, Austria?</td>\n",
              "      <td>0</td>\n",
              "    </tr>\n",
              "    <tr>\n",
              "      <th>279003</th>\n",
              "      <td>369c2a0f5459d74f2bcc</td>\n",
              "      <td>How do y’all think Michael Jackson would’ve re...</td>\n",
              "      <td>0</td>\n",
              "    </tr>\n",
              "    <tr>\n",
              "      <th>189256</th>\n",
              "      <td>2502901ffdccc2ab378b</td>\n",
              "      <td>How is the best way to get HR jobs?</td>\n",
              "      <td>0</td>\n",
              "    </tr>\n",
              "    <tr>\n",
              "      <th>856140</th>\n",
              "      <td>a7bcc0fac297092e3bb0</td>\n",
              "      <td>How can I manage time with lot of works?</td>\n",
              "      <td>0</td>\n",
              "    </tr>\n",
              "    <tr>\n",
              "      <th>...</th>\n",
              "      <td>...</td>\n",
              "      <td>...</td>\n",
              "      <td>...</td>\n",
              "    </tr>\n",
              "    <tr>\n",
              "      <th>783039</th>\n",
              "      <td>99656974d3d2e7552d02</td>\n",
              "      <td>Does lightning strike you when using a mobile ...</td>\n",
              "      <td>0</td>\n",
              "    </tr>\n",
              "    <tr>\n",
              "      <th>344120</th>\n",
              "      <td>436b4352d5e3f584ceee</td>\n",
              "      <td>Does a single atom in a perfect vacuum have a ...</td>\n",
              "      <td>0</td>\n",
              "    </tr>\n",
              "    <tr>\n",
              "      <th>59405</th>\n",
              "      <td>0ba611427e3e281897d6</td>\n",
              "      <td>What is the best job for women in Hyderabad?</td>\n",
              "      <td>0</td>\n",
              "    </tr>\n",
              "    <tr>\n",
              "      <th>733873</th>\n",
              "      <td>8fbc5d181cae6681abdd</td>\n",
              "      <td>What seemingly insignificant thing would you m...</td>\n",
              "      <td>0</td>\n",
              "    </tr>\n",
              "    <tr>\n",
              "      <th>503728</th>\n",
              "      <td>62a112d9bba2222101a7</td>\n",
              "      <td>Can a Filipino wear a black wedding gown in Ca...</td>\n",
              "      <td>0</td>\n",
              "    </tr>\n",
              "  </tbody>\n",
              "</table>\n",
              "<p>100000 rows × 3 columns</p>\n",
              "</div>\n",
              "      <button class=\"colab-df-convert\" onclick=\"convertToInteractive('df-85fc00cb-01ff-47bf-a415-22478878f765')\"\n",
              "              title=\"Convert this dataframe to an interactive table.\"\n",
              "              style=\"display:none;\">\n",
              "        \n",
              "  <svg xmlns=\"http://www.w3.org/2000/svg\" height=\"24px\"viewBox=\"0 0 24 24\"\n",
              "       width=\"24px\">\n",
              "    <path d=\"M0 0h24v24H0V0z\" fill=\"none\"/>\n",
              "    <path d=\"M18.56 5.44l.94 2.06.94-2.06 2.06-.94-2.06-.94-.94-2.06-.94 2.06-2.06.94zm-11 1L8.5 8.5l.94-2.06 2.06-.94-2.06-.94L8.5 2.5l-.94 2.06-2.06.94zm10 10l.94 2.06.94-2.06 2.06-.94-2.06-.94-.94-2.06-.94 2.06-2.06.94z\"/><path d=\"M17.41 7.96l-1.37-1.37c-.4-.4-.92-.59-1.43-.59-.52 0-1.04.2-1.43.59L10.3 9.45l-7.72 7.72c-.78.78-.78 2.05 0 2.83L4 21.41c.39.39.9.59 1.41.59.51 0 1.02-.2 1.41-.59l7.78-7.78 2.81-2.81c.8-.78.8-2.07 0-2.86zM5.41 20L4 18.59l7.72-7.72 1.47 1.35L5.41 20z\"/>\n",
              "  </svg>\n",
              "      </button>\n",
              "      \n",
              "  <style>\n",
              "    .colab-df-container {\n",
              "      display:flex;\n",
              "      flex-wrap:wrap;\n",
              "      gap: 12px;\n",
              "    }\n",
              "\n",
              "    .colab-df-convert {\n",
              "      background-color: #E8F0FE;\n",
              "      border: none;\n",
              "      border-radius: 50%;\n",
              "      cursor: pointer;\n",
              "      display: none;\n",
              "      fill: #1967D2;\n",
              "      height: 32px;\n",
              "      padding: 0 0 0 0;\n",
              "      width: 32px;\n",
              "    }\n",
              "\n",
              "    .colab-df-convert:hover {\n",
              "      background-color: #E2EBFA;\n",
              "      box-shadow: 0px 1px 2px rgba(60, 64, 67, 0.3), 0px 1px 3px 1px rgba(60, 64, 67, 0.15);\n",
              "      fill: #174EA6;\n",
              "    }\n",
              "\n",
              "    [theme=dark] .colab-df-convert {\n",
              "      background-color: #3B4455;\n",
              "      fill: #D2E3FC;\n",
              "    }\n",
              "\n",
              "    [theme=dark] .colab-df-convert:hover {\n",
              "      background-color: #434B5C;\n",
              "      box-shadow: 0px 1px 3px 1px rgba(0, 0, 0, 0.15);\n",
              "      filter: drop-shadow(0px 1px 2px rgba(0, 0, 0, 0.3));\n",
              "      fill: #FFFFFF;\n",
              "    }\n",
              "  </style>\n",
              "\n",
              "      <script>\n",
              "        const buttonEl =\n",
              "          document.querySelector('#df-85fc00cb-01ff-47bf-a415-22478878f765 button.colab-df-convert');\n",
              "        buttonEl.style.display =\n",
              "          google.colab.kernel.accessAllowed ? 'block' : 'none';\n",
              "\n",
              "        async function convertToInteractive(key) {\n",
              "          const element = document.querySelector('#df-85fc00cb-01ff-47bf-a415-22478878f765');\n",
              "          const dataTable =\n",
              "            await google.colab.kernel.invokeFunction('convertToInteractive',\n",
              "                                                     [key], {});\n",
              "          if (!dataTable) return;\n",
              "\n",
              "          const docLinkHtml = 'Like what you see? Visit the ' +\n",
              "            '<a target=\"_blank\" href=https://colab.research.google.com/notebooks/data_table.ipynb>data table notebook</a>'\n",
              "            + ' to learn more about interactive tables.';\n",
              "          element.innerHTML = '';\n",
              "          dataTable['output_type'] = 'display_data';\n",
              "          await google.colab.output.renderOutput(dataTable, element);\n",
              "          const docLink = document.createElement('div');\n",
              "          docLink.innerHTML = docLinkHtml;\n",
              "          element.appendChild(docLink);\n",
              "        }\n",
              "      </script>\n",
              "    </div>\n",
              "  </div>\n",
              "  "
            ]
          },
          "metadata": {},
          "execution_count": 21
        }
      ]
    },
    {
      "cell_type": "code",
      "source": [
        "#fitting the vectorizer to learn the vocabulary\n",
        "Vectorizer.fit(sample_df.question_text)"
      ],
      "metadata": {
        "colab": {
          "base_uri": "https://localhost:8080/",
          "height": 285
        },
        "id": "L9DKtcybPKAr",
        "outputId": "8f281cf1-9041-403e-d1ce-23d941f77495"
      },
      "execution_count": 22,
      "outputs": [
        {
          "output_type": "stream",
          "name": "stderr",
          "text": [
            "/usr/local/lib/python3.10/dist-packages/sklearn/feature_extraction/text.py:528: UserWarning: The parameter 'token_pattern' will not be used since 'tokenizer' is not None'\n",
            "  warnings.warn(\n",
            "/usr/local/lib/python3.10/dist-packages/sklearn/feature_extraction/text.py:409: UserWarning: Your stop_words may be inconsistent with your preprocessing. Tokenizing the stop words generated tokens [\"'d\", \"'s\", 'abov', 'ani', 'becaus', 'befor', 'could', 'doe', 'dure', 'might', 'must', \"n't\", 'need', 'onc', 'onli', 'ourselv', 'sha', 'themselv', 'veri', 'whi', 'wo', 'would', 'yourselv'] not in stop_words.\n",
            "  warnings.warn(\n"
          ]
        },
        {
          "output_type": "execute_result",
          "data": {
            "text/plain": [
              "TfidfVectorizer(max_features=1000,\n",
              "                stop_words=['i', 'me', 'my', 'myself', 'we', 'our', 'ours',\n",
              "                            'ourselves', 'you', \"you're\", \"you've\", \"you'll\",\n",
              "                            \"you'd\", 'your', 'yours', 'yourself', 'yourselves',\n",
              "                            'he', 'him', 'his', 'himself', 'she', \"she's\",\n",
              "                            'her', 'hers', 'herself', 'it', \"it's\", 'its',\n",
              "                            'itself', ...],\n",
              "                tokenizer=<function tokenize at 0x7f750f0b36d0>)"
            ],
            "text/html": [
              "<style>#sk-container-id-1 {color: black;background-color: white;}#sk-container-id-1 pre{padding: 0;}#sk-container-id-1 div.sk-toggleable {background-color: white;}#sk-container-id-1 label.sk-toggleable__label {cursor: pointer;display: block;width: 100%;margin-bottom: 0;padding: 0.3em;box-sizing: border-box;text-align: center;}#sk-container-id-1 label.sk-toggleable__label-arrow:before {content: \"▸\";float: left;margin-right: 0.25em;color: #696969;}#sk-container-id-1 label.sk-toggleable__label-arrow:hover:before {color: black;}#sk-container-id-1 div.sk-estimator:hover label.sk-toggleable__label-arrow:before {color: black;}#sk-container-id-1 div.sk-toggleable__content {max-height: 0;max-width: 0;overflow: hidden;text-align: left;background-color: #f0f8ff;}#sk-container-id-1 div.sk-toggleable__content pre {margin: 0.2em;color: black;border-radius: 0.25em;background-color: #f0f8ff;}#sk-container-id-1 input.sk-toggleable__control:checked~div.sk-toggleable__content {max-height: 200px;max-width: 100%;overflow: auto;}#sk-container-id-1 input.sk-toggleable__control:checked~label.sk-toggleable__label-arrow:before {content: \"▾\";}#sk-container-id-1 div.sk-estimator input.sk-toggleable__control:checked~label.sk-toggleable__label {background-color: #d4ebff;}#sk-container-id-1 div.sk-label input.sk-toggleable__control:checked~label.sk-toggleable__label {background-color: #d4ebff;}#sk-container-id-1 input.sk-hidden--visually {border: 0;clip: rect(1px 1px 1px 1px);clip: rect(1px, 1px, 1px, 1px);height: 1px;margin: -1px;overflow: hidden;padding: 0;position: absolute;width: 1px;}#sk-container-id-1 div.sk-estimator {font-family: monospace;background-color: #f0f8ff;border: 1px dotted black;border-radius: 0.25em;box-sizing: border-box;margin-bottom: 0.5em;}#sk-container-id-1 div.sk-estimator:hover {background-color: #d4ebff;}#sk-container-id-1 div.sk-parallel-item::after {content: \"\";width: 100%;border-bottom: 1px solid gray;flex-grow: 1;}#sk-container-id-1 div.sk-label:hover label.sk-toggleable__label {background-color: #d4ebff;}#sk-container-id-1 div.sk-serial::before {content: \"\";position: absolute;border-left: 1px solid gray;box-sizing: border-box;top: 0;bottom: 0;left: 50%;z-index: 0;}#sk-container-id-1 div.sk-serial {display: flex;flex-direction: column;align-items: center;background-color: white;padding-right: 0.2em;padding-left: 0.2em;position: relative;}#sk-container-id-1 div.sk-item {position: relative;z-index: 1;}#sk-container-id-1 div.sk-parallel {display: flex;align-items: stretch;justify-content: center;background-color: white;position: relative;}#sk-container-id-1 div.sk-item::before, #sk-container-id-1 div.sk-parallel-item::before {content: \"\";position: absolute;border-left: 1px solid gray;box-sizing: border-box;top: 0;bottom: 0;left: 50%;z-index: -1;}#sk-container-id-1 div.sk-parallel-item {display: flex;flex-direction: column;z-index: 1;position: relative;background-color: white;}#sk-container-id-1 div.sk-parallel-item:first-child::after {align-self: flex-end;width: 50%;}#sk-container-id-1 div.sk-parallel-item:last-child::after {align-self: flex-start;width: 50%;}#sk-container-id-1 div.sk-parallel-item:only-child::after {width: 0;}#sk-container-id-1 div.sk-dashed-wrapped {border: 1px dashed gray;margin: 0 0.4em 0.5em 0.4em;box-sizing: border-box;padding-bottom: 0.4em;background-color: white;}#sk-container-id-1 div.sk-label label {font-family: monospace;font-weight: bold;display: inline-block;line-height: 1.2em;}#sk-container-id-1 div.sk-label-container {text-align: center;}#sk-container-id-1 div.sk-container {/* jupyter's `normalize.less` sets `[hidden] { display: none; }` but bootstrap.min.css set `[hidden] { display: none !important; }` so we also need the `!important` here to be able to override the default hidden behavior on the sphinx rendered scikit-learn.org. See: https://github.com/scikit-learn/scikit-learn/issues/21755 */display: inline-block !important;position: relative;}#sk-container-id-1 div.sk-text-repr-fallback {display: none;}</style><div id=\"sk-container-id-1\" class=\"sk-top-container\"><div class=\"sk-text-repr-fallback\"><pre>TfidfVectorizer(max_features=1000,\n",
              "                stop_words=[&#x27;i&#x27;, &#x27;me&#x27;, &#x27;my&#x27;, &#x27;myself&#x27;, &#x27;we&#x27;, &#x27;our&#x27;, &#x27;ours&#x27;,\n",
              "                            &#x27;ourselves&#x27;, &#x27;you&#x27;, &quot;you&#x27;re&quot;, &quot;you&#x27;ve&quot;, &quot;you&#x27;ll&quot;,\n",
              "                            &quot;you&#x27;d&quot;, &#x27;your&#x27;, &#x27;yours&#x27;, &#x27;yourself&#x27;, &#x27;yourselves&#x27;,\n",
              "                            &#x27;he&#x27;, &#x27;him&#x27;, &#x27;his&#x27;, &#x27;himself&#x27;, &#x27;she&#x27;, &quot;she&#x27;s&quot;,\n",
              "                            &#x27;her&#x27;, &#x27;hers&#x27;, &#x27;herself&#x27;, &#x27;it&#x27;, &quot;it&#x27;s&quot;, &#x27;its&#x27;,\n",
              "                            &#x27;itself&#x27;, ...],\n",
              "                tokenizer=&lt;function tokenize at 0x7f750f0b36d0&gt;)</pre><b>In a Jupyter environment, please rerun this cell to show the HTML representation or trust the notebook. <br />On GitHub, the HTML representation is unable to render, please try loading this page with nbviewer.org.</b></div><div class=\"sk-container\" hidden><div class=\"sk-item\"><div class=\"sk-estimator sk-toggleable\"><input class=\"sk-toggleable__control sk-hidden--visually\" id=\"sk-estimator-id-1\" type=\"checkbox\" checked><label for=\"sk-estimator-id-1\" class=\"sk-toggleable__label sk-toggleable__label-arrow\">TfidfVectorizer</label><div class=\"sk-toggleable__content\"><pre>TfidfVectorizer(max_features=1000,\n",
              "                stop_words=[&#x27;i&#x27;, &#x27;me&#x27;, &#x27;my&#x27;, &#x27;myself&#x27;, &#x27;we&#x27;, &#x27;our&#x27;, &#x27;ours&#x27;,\n",
              "                            &#x27;ourselves&#x27;, &#x27;you&#x27;, &quot;you&#x27;re&quot;, &quot;you&#x27;ve&quot;, &quot;you&#x27;ll&quot;,\n",
              "                            &quot;you&#x27;d&quot;, &#x27;your&#x27;, &#x27;yours&#x27;, &#x27;yourself&#x27;, &#x27;yourselves&#x27;,\n",
              "                            &#x27;he&#x27;, &#x27;him&#x27;, &#x27;his&#x27;, &#x27;himself&#x27;, &#x27;she&#x27;, &quot;she&#x27;s&quot;,\n",
              "                            &#x27;her&#x27;, &#x27;hers&#x27;, &#x27;herself&#x27;, &#x27;it&#x27;, &quot;it&#x27;s&quot;, &#x27;its&#x27;,\n",
              "                            &#x27;itself&#x27;, ...],\n",
              "                tokenizer=&lt;function tokenize at 0x7f750f0b36d0&gt;)</pre></div></div></div></div></div>"
            ]
          },
          "metadata": {},
          "execution_count": 22
        }
      ]
    },
    {
      "cell_type": "code",
      "source": [
        "\" \".join(Vectorizer.get_feature_names_out())"
      ],
      "metadata": {
        "colab": {
          "base_uri": "https://localhost:8080/",
          "height": 123
        },
        "id": "61rbX4TQPvTy",
        "outputId": "9b3b8957-998b-4fd4-8410-abfe72d6c0d1"
      },
      "execution_count": 23,
      "outputs": [
        {
          "output_type": "execute_result",
          "data": {
            "text/plain": [
              "\"! $ % & ' '' 'm 's ( ) , - . 1 10 100 12 12th 15 2 20 2017 2018 3 4 5 50 6 7 8 : ? [ ] `` abl abroad abus accept access accomplish accord account achiev acid act action activ actor actual ad add address admiss adult advanc advantag advic affect africa african age ago air allow alon alreadi also alway amazon america american among amount android ani anim anoth answer anyon anyth apart app appear appl appli applic approach arab area armi around art articl asian ask atheist attack attract australia author avail averag avoid away babi back bad ball ban bangalor bank base basic batteri beauti becaus becom befor behind believ benefit best better big biggest bill biolog bit bitcoin black block blog blood board bodi book born boy boyfriend brain branch brand break bring british brother build busi buy c ca calcul call canada candid car card care career carri case cast cat caus cbse celebr cell center certain certif challeng chanc chang channel charact characterist charg check chemic chemistri chennai child children china chines choic choos christian citi citizen civil claim class clean clear close cloth coach code cold colleg color come comment commit common communic communiti compani compar competit complet comput concept condit connect conserv consid constant construct contact contain continu contribut control convers convert correct cost could countri coupl cours court cover crack creat credit crime crush cs cse cultur current custom cut daili damag danger dark data date day dead deal death decid decis degre delet delhi democrat depress describ design destroy detail determin develop devic die differ difficult digit direct disord doctor doe dog donald done download draw dream drink drive drop drug due dure earli earn earth easi east eat econom economi educ effect elect electr electron els email emot employ employe end energi engin english enjoy enough enter entir equal especi etc europ european even event ever everi everyon everyth ex exact exam exampl exist expect expens experi explain extrem eye face facebook fact factor fail fake fall famili famous far fast fat father favorit fear featur fee feel femal field fight file film final financi find fire first fit fix focus follow food footbal forc foreign form found free french friend full function fund futur gain game gas gate gay general generat german germani get girl girlfriend give given global go god good googl got govern grade graduat great group grow gun guy hair hand handl happen happi hard harm hate head health hear heard heart heat help high higher hindi hindu hire histori hit hold home hotel hour hous human hurt husband hyderabad idea ignor iit illeg imag immigr impact import improv includ incom increas independ india indian individu industri influenc inform insid inspir instagram instead institut insur integr intellig interest intern internet internship interview invent invest involv iphon iq islam israel issu japan japanes java jee jew job john join keep kid kill kind know knowledg known korea korean land languag laptop larg last late later law lead leader learn least leav left legal less let letter level liber lie life light like limit line link list listen littl live locat long look lose lost lot love low lower machin made main major make male man manag mani manufactur mark market marri marriag mass master materi math mathemat matter may mba mean measur mechan media medic meet member memori men mental messag metal method middl might militari mind minimum miss mobil model modern modi mom moment money month mother motiv move movi much multipl mumbai music muslim must n't name narcissist nation natur near necessari need neet negat network never new news next night non normal north note noth novel nuclear number obama object offer offic often oil ok okay old onc one onli onlin open oper opinion opportun option order organ origin outsid overcom page paid pain pakistan paper parent part parti particular partner pass past pay peac peopl per percentag perfect perform period person phd phone photo physic pictur place placement plan planet plant play player pleas point polic polici polit poor popul popular posit possibl post potenti power practic prefer pregnant prepar present presid pressur prevent price privat problem procedur process produc product profession profil profit program project promot properti protect prove provid psycholog public pune purchas purpos pursu put qualiti question quora race racist rais rank rape rate rather reach react reaction read real realiz realli reason receiv recent recommend record red reduc refer regard regular reject relat relationship releas religi religion remov replac report republican requir research resourc respect respons rest result return review rich rid right risk role room rule run russia russian safe said salari sale save say school scienc scientist scope score search season seat second secret secur see seem seen select self sell send sentenc separ seri serious serv servic set sever sex sexual share shoot shop short show side sign signific similar simpl sinc singl sister site situat size skill skin sleep small smart social societi softwar solut solv someon someth sometim son song sound sourc south space speak special specif speed spend sport stand standard star start startup state stay step still stock stop store stori strategi strong structur student studi stupid style subject success suffer suggest suicid summer support surviv system take taken talk tax teach teacher team tech techniqu technolog teenag tell temperatur term terrorist test text themselv theori thing think though thought three time tip today togeth told tool top topic total touch toward trade tradit train transfer travel treat treatment tri true trump trust turn tv two type u.s. uk understand unit univers upsc us usa use user valu veri video view visa visit voic vote vs walk want war watch water way weapon wear web websit week weight well west western whether whi white whole wife win window wish within without woman women word work world worst worth would write writer wrong x year yes yet young youtub { } ’ “ ”\""
            ],
            "application/vnd.google.colaboratory.intrinsic+json": {
              "type": "string"
            }
          },
          "metadata": {},
          "execution_count": 23
        }
      ]
    },
    {
      "cell_type": "markdown",
      "source": [
        "## Transforming the Raw and Test DataFrame"
      ],
      "metadata": {
        "id": "T1jbh3wrwFUO"
      }
    },
    {
      "cell_type": "code",
      "source": [
        "#transforming the Raw Dataframe\n",
        "inputs = Vectorizer.transform(sample_df.question_text)"
      ],
      "metadata": {
        "id": "xIz3Nb0gP7IE"
      },
      "execution_count": 24,
      "outputs": []
    },
    {
      "cell_type": "code",
      "source": [
        "inputs.shape"
      ],
      "metadata": {
        "colab": {
          "base_uri": "https://localhost:8080/"
        },
        "id": "jX97sh_2xh70",
        "outputId": "960ab2bc-b79b-4560-9866-308f8c84c9d9"
      },
      "execution_count": 25,
      "outputs": [
        {
          "output_type": "execute_result",
          "data": {
            "text/plain": [
              "(100000, 1000)"
            ]
          },
          "metadata": {},
          "execution_count": 25
        }
      ]
    },
    {
      "cell_type": "code",
      "source": [
        "test_df.head()"
      ],
      "metadata": {
        "colab": {
          "base_uri": "https://localhost:8080/",
          "height": 206
        },
        "id": "COlgql-Exyjo",
        "outputId": "d8acb8bc-5451-4be8-bbf2-3f1123811fd8"
      },
      "execution_count": 26,
      "outputs": [
        {
          "output_type": "execute_result",
          "data": {
            "text/plain": [
              "                    qid                                      question_text\n",
              "0  0000163e3ea7c7a74cd7  Why do so many women become so rude and arroga...\n",
              "1  00002bd4fb5d505b9161  When should I apply for RV college of engineer...\n",
              "2  00007756b4a147d2b0b3  What is it really like to be a nurse practitio...\n",
              "3  000086e4b7e1c7146103                             Who are entrepreneurs?\n",
              "4  0000c4c3fbe8785a3090   Is education really making good people nowadays?"
            ],
            "text/html": [
              "\n",
              "  <div id=\"df-34979597-beab-4024-aaef-82e7e4b159d5\">\n",
              "    <div class=\"colab-df-container\">\n",
              "      <div>\n",
              "<style scoped>\n",
              "    .dataframe tbody tr th:only-of-type {\n",
              "        vertical-align: middle;\n",
              "    }\n",
              "\n",
              "    .dataframe tbody tr th {\n",
              "        vertical-align: top;\n",
              "    }\n",
              "\n",
              "    .dataframe thead th {\n",
              "        text-align: right;\n",
              "    }\n",
              "</style>\n",
              "<table border=\"1\" class=\"dataframe\">\n",
              "  <thead>\n",
              "    <tr style=\"text-align: right;\">\n",
              "      <th></th>\n",
              "      <th>qid</th>\n",
              "      <th>question_text</th>\n",
              "    </tr>\n",
              "  </thead>\n",
              "  <tbody>\n",
              "    <tr>\n",
              "      <th>0</th>\n",
              "      <td>0000163e3ea7c7a74cd7</td>\n",
              "      <td>Why do so many women become so rude and arroga...</td>\n",
              "    </tr>\n",
              "    <tr>\n",
              "      <th>1</th>\n",
              "      <td>00002bd4fb5d505b9161</td>\n",
              "      <td>When should I apply for RV college of engineer...</td>\n",
              "    </tr>\n",
              "    <tr>\n",
              "      <th>2</th>\n",
              "      <td>00007756b4a147d2b0b3</td>\n",
              "      <td>What is it really like to be a nurse practitio...</td>\n",
              "    </tr>\n",
              "    <tr>\n",
              "      <th>3</th>\n",
              "      <td>000086e4b7e1c7146103</td>\n",
              "      <td>Who are entrepreneurs?</td>\n",
              "    </tr>\n",
              "    <tr>\n",
              "      <th>4</th>\n",
              "      <td>0000c4c3fbe8785a3090</td>\n",
              "      <td>Is education really making good people nowadays?</td>\n",
              "    </tr>\n",
              "  </tbody>\n",
              "</table>\n",
              "</div>\n",
              "      <button class=\"colab-df-convert\" onclick=\"convertToInteractive('df-34979597-beab-4024-aaef-82e7e4b159d5')\"\n",
              "              title=\"Convert this dataframe to an interactive table.\"\n",
              "              style=\"display:none;\">\n",
              "        \n",
              "  <svg xmlns=\"http://www.w3.org/2000/svg\" height=\"24px\"viewBox=\"0 0 24 24\"\n",
              "       width=\"24px\">\n",
              "    <path d=\"M0 0h24v24H0V0z\" fill=\"none\"/>\n",
              "    <path d=\"M18.56 5.44l.94 2.06.94-2.06 2.06-.94-2.06-.94-.94-2.06-.94 2.06-2.06.94zm-11 1L8.5 8.5l.94-2.06 2.06-.94-2.06-.94L8.5 2.5l-.94 2.06-2.06.94zm10 10l.94 2.06.94-2.06 2.06-.94-2.06-.94-.94-2.06-.94 2.06-2.06.94z\"/><path d=\"M17.41 7.96l-1.37-1.37c-.4-.4-.92-.59-1.43-.59-.52 0-1.04.2-1.43.59L10.3 9.45l-7.72 7.72c-.78.78-.78 2.05 0 2.83L4 21.41c.39.39.9.59 1.41.59.51 0 1.02-.2 1.41-.59l7.78-7.78 2.81-2.81c.8-.78.8-2.07 0-2.86zM5.41 20L4 18.59l7.72-7.72 1.47 1.35L5.41 20z\"/>\n",
              "  </svg>\n",
              "      </button>\n",
              "      \n",
              "  <style>\n",
              "    .colab-df-container {\n",
              "      display:flex;\n",
              "      flex-wrap:wrap;\n",
              "      gap: 12px;\n",
              "    }\n",
              "\n",
              "    .colab-df-convert {\n",
              "      background-color: #E8F0FE;\n",
              "      border: none;\n",
              "      border-radius: 50%;\n",
              "      cursor: pointer;\n",
              "      display: none;\n",
              "      fill: #1967D2;\n",
              "      height: 32px;\n",
              "      padding: 0 0 0 0;\n",
              "      width: 32px;\n",
              "    }\n",
              "\n",
              "    .colab-df-convert:hover {\n",
              "      background-color: #E2EBFA;\n",
              "      box-shadow: 0px 1px 2px rgba(60, 64, 67, 0.3), 0px 1px 3px 1px rgba(60, 64, 67, 0.15);\n",
              "      fill: #174EA6;\n",
              "    }\n",
              "\n",
              "    [theme=dark] .colab-df-convert {\n",
              "      background-color: #3B4455;\n",
              "      fill: #D2E3FC;\n",
              "    }\n",
              "\n",
              "    [theme=dark] .colab-df-convert:hover {\n",
              "      background-color: #434B5C;\n",
              "      box-shadow: 0px 1px 3px 1px rgba(0, 0, 0, 0.15);\n",
              "      filter: drop-shadow(0px 1px 2px rgba(0, 0, 0, 0.3));\n",
              "      fill: #FFFFFF;\n",
              "    }\n",
              "  </style>\n",
              "\n",
              "      <script>\n",
              "        const buttonEl =\n",
              "          document.querySelector('#df-34979597-beab-4024-aaef-82e7e4b159d5 button.colab-df-convert');\n",
              "        buttonEl.style.display =\n",
              "          google.colab.kernel.accessAllowed ? 'block' : 'none';\n",
              "\n",
              "        async function convertToInteractive(key) {\n",
              "          const element = document.querySelector('#df-34979597-beab-4024-aaef-82e7e4b159d5');\n",
              "          const dataTable =\n",
              "            await google.colab.kernel.invokeFunction('convertToInteractive',\n",
              "                                                     [key], {});\n",
              "          if (!dataTable) return;\n",
              "\n",
              "          const docLinkHtml = 'Like what you see? Visit the ' +\n",
              "            '<a target=\"_blank\" href=https://colab.research.google.com/notebooks/data_table.ipynb>data table notebook</a>'\n",
              "            + ' to learn more about interactive tables.';\n",
              "          element.innerHTML = '';\n",
              "          dataTable['output_type'] = 'display_data';\n",
              "          await google.colab.output.renderOutput(dataTable, element);\n",
              "          const docLink = document.createElement('div');\n",
              "          docLink.innerHTML = docLinkHtml;\n",
              "          element.appendChild(docLink);\n",
              "        }\n",
              "      </script>\n",
              "    </div>\n",
              "  </div>\n",
              "  "
            ]
          },
          "metadata": {},
          "execution_count": 26
        }
      ]
    },
    {
      "cell_type": "code",
      "source": [
        "#transforming the Test Dataframe\n",
        "test_inputs = Vectorizer.transform(test_df.question_text)"
      ],
      "metadata": {
        "id": "-1kN6pQDQOvq"
      },
      "execution_count": 27,
      "outputs": []
    },
    {
      "cell_type": "markdown",
      "source": [
        "## Preparing Data for Training"
      ],
      "metadata": {
        "id": "TrZFqxJ7x_-o"
      }
    },
    {
      "cell_type": "code",
      "source": [
        "# splitting the df for training and validation\n",
        "from sklearn.model_selection import train_test_split"
      ],
      "metadata": {
        "id": "PUnfryUlxv0A"
      },
      "execution_count": 28,
      "outputs": []
    },
    {
      "cell_type": "code",
      "source": [
        "targets = sample_df.target"
      ],
      "metadata": {
        "id": "CbtRO9s2zGDy"
      },
      "execution_count": 29,
      "outputs": []
    },
    {
      "cell_type": "code",
      "source": [
        "train_inputs, val_inputs, train_targets, val_targets = train_test_split(inputs,targets,test_size=0.3)"
      ],
      "metadata": {
        "id": "34o0CbUzyrkj"
      },
      "execution_count": 30,
      "outputs": []
    },
    {
      "cell_type": "code",
      "source": [
        "train_inputs.shape"
      ],
      "metadata": {
        "colab": {
          "base_uri": "https://localhost:8080/"
        },
        "id": "kLlJ26TYzTTX",
        "outputId": "83992431-2d35-449e-d50d-02dce07bd60a"
      },
      "execution_count": 31,
      "outputs": [
        {
          "output_type": "execute_result",
          "data": {
            "text/plain": [
              "(70000, 1000)"
            ]
          },
          "metadata": {},
          "execution_count": 31
        }
      ]
    },
    {
      "cell_type": "code",
      "source": [
        "val_inputs.shape"
      ],
      "metadata": {
        "colab": {
          "base_uri": "https://localhost:8080/"
        },
        "id": "OJVvbipRzU42",
        "outputId": "487ef848-894c-43c9-82a9-3bafa22f4f76"
      },
      "execution_count": 32,
      "outputs": [
        {
          "output_type": "execute_result",
          "data": {
            "text/plain": [
              "(30000, 1000)"
            ]
          },
          "metadata": {},
          "execution_count": 32
        }
      ]
    },
    {
      "cell_type": "code",
      "source": [
        "train_targets.shape"
      ],
      "metadata": {
        "colab": {
          "base_uri": "https://localhost:8080/"
        },
        "id": "KCc1iZ62zWgq",
        "outputId": "19123cb6-3dd7-4828-d6f6-c1a5f59225b1"
      },
      "execution_count": 33,
      "outputs": [
        {
          "output_type": "execute_result",
          "data": {
            "text/plain": [
              "(70000,)"
            ]
          },
          "metadata": {},
          "execution_count": 33
        }
      ]
    },
    {
      "cell_type": "code",
      "source": [
        "val_targets.shape"
      ],
      "metadata": {
        "colab": {
          "base_uri": "https://localhost:8080/"
        },
        "id": "Zv3QnEQQzYhV",
        "outputId": "d1182983-421f-46c0-b4da-16f5f88321eb"
      },
      "execution_count": 34,
      "outputs": [
        {
          "output_type": "execute_result",
          "data": {
            "text/plain": [
              "(30000,)"
            ]
          },
          "metadata": {},
          "execution_count": 34
        }
      ]
    },
    {
      "cell_type": "markdown",
      "source": [
        "## Converting Array to Tensors"
      ],
      "metadata": {
        "id": "E3Ir_ooW1VRb"
      }
    },
    {
      "cell_type": "code",
      "source": [
        "import torch"
      ],
      "metadata": {
        "id": "GRxwLWspzaxd"
      },
      "execution_count": 35,
      "outputs": []
    },
    {
      "cell_type": "code",
      "source": [
        "#converting train and validation inputs to tensors\n",
        "#using toarray since it is sparse matrix after vectorized\n",
        "train_input_tensors = torch.Tensor(train_inputs.toarray()).float()\n",
        "val_input_tensors = torch.Tensor(val_inputs.toarray()).float()"
      ],
      "metadata": {
        "id": "kAbgw5PE1bu_"
      },
      "execution_count": 36,
      "outputs": []
    },
    {
      "cell_type": "code",
      "source": [
        "train_input_tensors.size()"
      ],
      "metadata": {
        "colab": {
          "base_uri": "https://localhost:8080/"
        },
        "id": "0DeJc-rz1xkp",
        "outputId": "607fd4e5-5792-489f-8d73-2e2579c82871"
      },
      "execution_count": 37,
      "outputs": [
        {
          "output_type": "execute_result",
          "data": {
            "text/plain": [
              "torch.Size([70000, 1000])"
            ]
          },
          "metadata": {},
          "execution_count": 37
        }
      ]
    },
    {
      "cell_type": "code",
      "source": [
        "val_input_tensors.size()"
      ],
      "metadata": {
        "colab": {
          "base_uri": "https://localhost:8080/"
        },
        "id": "kaJcEIPg16NG",
        "outputId": "aeb4c34e-ce8b-44c1-9b50-adc550f62fd3"
      },
      "execution_count": 38,
      "outputs": [
        {
          "output_type": "execute_result",
          "data": {
            "text/plain": [
              "torch.Size([30000, 1000])"
            ]
          },
          "metadata": {},
          "execution_count": 38
        }
      ]
    },
    {
      "cell_type": "code",
      "source": [
        "print(train_targets)\n",
        "print(type(train_targets))"
      ],
      "metadata": {
        "colab": {
          "base_uri": "https://localhost:8080/"
        },
        "id": "zgK8gAFm2olK",
        "outputId": "7bab92d8-d9e1-4678-b33a-053ca9418998"
      },
      "execution_count": 39,
      "outputs": [
        {
          "output_type": "stream",
          "name": "stdout",
          "text": [
            "754840     0\n",
            "508087     0\n",
            "1217831    0\n",
            "1115       0\n",
            "50367      0\n",
            "          ..\n",
            "381727     0\n",
            "501630     0\n",
            "273955     0\n",
            "360854     0\n",
            "732046     0\n",
            "Name: target, Length: 70000, dtype: int64\n",
            "<class 'pandas.core.series.Series'>\n"
          ]
        }
      ]
    },
    {
      "cell_type": "code",
      "source": [
        "#converting traing and validation targets to tensors\n",
        "#using values since the targets are pandas series\n",
        "train_target_tensors = torch.tensor(train_targets.values).float()\n",
        "val_target_tensors = torch.tensor(val_targets.values).float()"
      ],
      "metadata": {
        "id": "3cL1ifX82Amb"
      },
      "execution_count": 40,
      "outputs": []
    },
    {
      "cell_type": "code",
      "source": [
        "# converting test dataframe to tensors\n",
        "test_input_tensors = torch.tensor(test_inputs.toarray()).float()"
      ],
      "metadata": {
        "id": "m8v6qHm03hwg"
      },
      "execution_count": 41,
      "outputs": []
    },
    {
      "cell_type": "markdown",
      "source": [
        "## Converting Tensors to Dataloaders"
      ],
      "metadata": {
        "id": "uh5A1o3KCb_m"
      }
    },
    {
      "cell_type": "code",
      "source": [
        "from torch.utils.data import TensorDataset, DataLoader"
      ],
      "metadata": {
        "id": "V1Ym2F6T4YiZ"
      },
      "execution_count": 42,
      "outputs": []
    },
    {
      "cell_type": "code",
      "source": [
        "#merging inputs and target tensors as a dataset\n",
        "train_ds = TensorDataset(train_input_tensors,train_target_tensors)\n",
        "val_ds = TensorDataset(val_input_tensors,val_target_tensors)\n",
        "test_ds = TensorDataset(test_input_tensors)"
      ],
      "metadata": {
        "id": "fPQoPfoCCtCm"
      },
      "execution_count": 43,
      "outputs": []
    },
    {
      "cell_type": "code",
      "source": [
        "train_ds[:10]"
      ],
      "metadata": {
        "colab": {
          "base_uri": "https://localhost:8080/"
        },
        "id": "3nc2pioMDKyk",
        "outputId": "e26f6fa6-e775-442f-907b-d4a33706d3c5"
      },
      "execution_count": 44,
      "outputs": [
        {
          "output_type": "execute_result",
          "data": {
            "text/plain": [
              "(tensor([[0., 0., 0.,  ..., 0., 0., 0.],\n",
              "         [0., 0., 0.,  ..., 0., 0., 0.],\n",
              "         [0., 0., 0.,  ..., 0., 0., 0.],\n",
              "         ...,\n",
              "         [0., 0., 0.,  ..., 0., 0., 0.],\n",
              "         [0., 0., 0.,  ..., 0., 0., 0.],\n",
              "         [0., 0., 0.,  ..., 0., 0., 0.]]),\n",
              " tensor([0., 0., 0., 0., 0., 0., 0., 0., 0., 0.]))"
            ]
          },
          "metadata": {},
          "execution_count": 44
        }
      ]
    },
    {
      "cell_type": "code",
      "source": [
        "#creating a Dataloader\n",
        "train_dl = DataLoader(dataset= train_ds, batch_size = 128, shuffle =True)\n",
        "val_dl = DataLoader(dataset = val_ds, batch_size = 128) # shuffle is not necessary\n",
        "test_dl = DataLoader(dataset= test_ds,batch_size = 128) #shuffle is not necessary"
      ],
      "metadata": {
        "id": "-UagZyKlDM3N"
      },
      "execution_count": 45,
      "outputs": []
    },
    {
      "cell_type": "code",
      "source": [
        "# for creating a batch\n",
        "# for batch in train_dl:\n",
        "#   batch_inputs = batch[0]\n",
        "#   batch_targets = batch[1]\n",
        "#   print('batch input shape:',batch_inputs.shape)\n",
        "#   print('batch target shape:',batch_targets.shape)\n",
        "#   break"
      ],
      "metadata": {
        "id": "zv53IbkcFJR-"
      },
      "execution_count": 46,
      "outputs": []
    },
    {
      "cell_type": "code",
      "source": [
        "len(train_dl)"
      ],
      "metadata": {
        "id": "VguQ2rQwFNdg",
        "colab": {
          "base_uri": "https://localhost:8080/"
        },
        "outputId": "b2a2f29a-d697-4f9b-eb43-dbb9296dbe78"
      },
      "execution_count": 47,
      "outputs": [
        {
          "output_type": "execute_result",
          "data": {
            "text/plain": [
              "547"
            ]
          },
          "metadata": {},
          "execution_count": 47
        }
      ]
    },
    {
      "cell_type": "code",
      "source": [
        "#there are 547 batches and in each batch there are 128 rows\n",
        "547*128"
      ],
      "metadata": {
        "colab": {
          "base_uri": "https://localhost:8080/"
        },
        "id": "HBtK3xNqRwFD",
        "outputId": "1b17e7b4-3393-47df-a5c5-f5387475f2af"
      },
      "execution_count": 48,
      "outputs": [
        {
          "output_type": "execute_result",
          "data": {
            "text/plain": [
              "70016"
            ]
          },
          "metadata": {},
          "execution_count": 48
        }
      ]
    },
    {
      "cell_type": "markdown",
      "source": [
        "## Creating a Deep NN"
      ],
      "metadata": {
        "id": "kPo5BivAfLuq"
      }
    },
    {
      "cell_type": "code",
      "source": [
        "import torch.nn as nn\n",
        "import torch.nn.functional as F\n",
        "\n",
        "class QuoraNet (nn.Module):\n",
        "  def __init__(self):\n",
        "    super().__init__()\n",
        "\n",
        "    #creating a 4 layred dnn from 1000 inputs to 1 output \n",
        "\n",
        "    #with 1000 inputs and reduced to 512 outputs then to 256 and finally 1 output\n",
        "    self.layer1 = nn.Linear( 1000, 512)  \n",
        "    self.layer2 = nn.Linear(512, 256)\n",
        "    self.layer3 = nn.Linear(256,128)\n",
        "    self.layer4 = nn.Linear(128,1) \n",
        "  \n",
        "  def forward(self, inputs):\n",
        "    out = self.layer1(inputs)\n",
        "    out = F.relu(out)\n",
        "    out = self.layer2(out)\n",
        "    out = F.relu(out)\n",
        "    out = self.layer3(out)\n",
        "    out = F.relu(out)\n",
        "    out = self.layer4(out)\n",
        "    return out\n"
      ],
      "metadata": {
        "id": "uLP_7FZ4RyEv"
      },
      "execution_count": 49,
      "outputs": []
    },
    {
      "cell_type": "code",
      "source": [
        "model = QuoraNet()"
      ],
      "metadata": {
        "id": "38Z0FvJ9htkX"
      },
      "execution_count": 107,
      "outputs": []
    },
    {
      "cell_type": "code",
      "source": [
        "from sklearn.metrics import accuracy_score, f1_score"
      ],
      "metadata": {
        "id": "cf6UDs5R5A5I"
      },
      "execution_count": 51,
      "outputs": []
    },
    {
      "cell_type": "code",
      "source": [
        "#lets create a loop and pass only for first batch to the model to check how it works\n",
        "\n",
        "for batch in train_dl:\n",
        "  batch_input, batch_target = batch\n",
        "  print('batch input shape:',batch_input.shape)\n",
        "  print('batch target shape:',batch_target.shape)\n",
        "  \n",
        "  batch_output = model(batch_input)   #prediction\n",
        "  print('batch output shape:', batch_output.shape)\n",
        "\n",
        "  #convert outputs to probabilities\n",
        "  probs = torch.sigmoid(batch_output[:,0])\n",
        "\n",
        "  #converting probabilities to prrediction (0 or 1)\n",
        "  pred = (probs > 0.5).int()\n",
        "\n",
        "  #printing accuracy and f1-score\n",
        "  print('Accuracy:', accuracy_score(batch_target,pred))\n",
        "  print('F1 Score;', f1_score(batch_target,pred))\n",
        "\n",
        "  #calculating the loss\n",
        "  #assigning Binary Cross Entropy Loss function\n",
        "  loss = F.binary_cross_entropy(pred.float(),batch_target)\n",
        "  break"
      ],
      "metadata": {
        "colab": {
          "base_uri": "https://localhost:8080/"
        },
        "id": "pAKc_ZP0hwmy",
        "outputId": "0bc2ae48-e6b4-4840-ac53-fcd29b5aca30"
      },
      "execution_count": 52,
      "outputs": [
        {
          "output_type": "stream",
          "name": "stdout",
          "text": [
            "batch input shape: torch.Size([128, 1000])\n",
            "batch target shape: torch.Size([128])\n",
            "batch output shape: torch.Size([128, 1])\n",
            "Accuracy: 0.03125\n",
            "F1 Score; 0.06060606060606061\n"
          ]
        }
      ]
    },
    {
      "cell_type": "code",
      "source": [
        "batch_target[:10]"
      ],
      "metadata": {
        "colab": {
          "base_uri": "https://localhost:8080/"
        },
        "id": "_bz_FdjS1Jiv",
        "outputId": "21b5ca13-0f7e-4392-9cfc-f0a5f444c683"
      },
      "execution_count": 53,
      "outputs": [
        {
          "output_type": "execute_result",
          "data": {
            "text/plain": [
              "tensor([0., 0., 0., 0., 0., 0., 0., 0., 0., 0.])"
            ]
          },
          "metadata": {},
          "execution_count": 53
        }
      ]
    },
    {
      "cell_type": "code",
      "source": [
        "#prediction before training using random weights\n",
        "batch_output[:10]"
      ],
      "metadata": {
        "colab": {
          "base_uri": "https://localhost:8080/"
        },
        "id": "8S5-m0BNjBzS",
        "outputId": "79481c0f-d050-4c28-dfc1-8cd20f2c884f"
      },
      "execution_count": 54,
      "outputs": [
        {
          "output_type": "execute_result",
          "data": {
            "text/plain": [
              "tensor([[0.0552],\n",
              "        [0.0562],\n",
              "        [0.0550],\n",
              "        [0.0551],\n",
              "        [0.0545],\n",
              "        [0.0549],\n",
              "        [0.0560],\n",
              "        [0.0551],\n",
              "        [0.0545],\n",
              "        [0.0553]], grad_fn=<SliceBackward0>)"
            ]
          },
          "metadata": {},
          "execution_count": 54
        }
      ]
    },
    {
      "cell_type": "code",
      "source": [
        "#converted probabilities of batch_output \n",
        "probs[:10]"
      ],
      "metadata": {
        "colab": {
          "base_uri": "https://localhost:8080/"
        },
        "id": "pWBrNxlE1VQE",
        "outputId": "71addbef-5748-4af5-f975-8f35dc807ea3"
      },
      "execution_count": 55,
      "outputs": [
        {
          "output_type": "execute_result",
          "data": {
            "text/plain": [
              "tensor([0.5138, 0.5140, 0.5137, 0.5138, 0.5136, 0.5137, 0.5140, 0.5138, 0.5136,\n",
              "        0.5138], grad_fn=<SliceBackward0>)"
            ]
          },
          "metadata": {},
          "execution_count": 55
        }
      ]
    },
    {
      "cell_type": "code",
      "source": [
        "#transformed probabilites to 0 or 1\n",
        "pred[:10]"
      ],
      "metadata": {
        "colab": {
          "base_uri": "https://localhost:8080/"
        },
        "id": "ng19X9YU2nSG",
        "outputId": "efee1096-4809-4735-92f1-51ee66aea9a6"
      },
      "execution_count": 56,
      "outputs": [
        {
          "output_type": "execute_result",
          "data": {
            "text/plain": [
              "tensor([1, 1, 1, 1, 1, 1, 1, 1, 1, 1], dtype=torch.int32)"
            ]
          },
          "metadata": {},
          "execution_count": 56
        }
      ]
    },
    {
      "cell_type": "markdown",
      "source": [
        "## Creating the Evaluation"
      ],
      "metadata": {
        "id": "BIMd3WtRqv2k"
      }
    },
    {
      "cell_type": "code",
      "source": [
        "def evaluate(model, dl):\n",
        "    losses, acc, f1 = [], [], []\n",
        "\n",
        "    for batch in dl:\n",
        "        # Get inputs and targets\n",
        "        batch_input, batch_target = batch\n",
        "\n",
        "        # Pass inputs through model\n",
        "        batch_output = model(batch_input)\n",
        "\n",
        "        # Convert outputs to probabilities\n",
        "        probs = torch.sigmoid(batch_output[:, 0])\n",
        "\n",
        "        # Converting probabilities to predictions (0 or 1)\n",
        "        pred = (probs > 0.5).int()\n",
        "\n",
        "        # Calculating accuracy and f1-score\n",
        "        accs = accuracy_score(batch_target, pred)\n",
        "        f1s = f1_score(batch_target, pred)\n",
        "\n",
        "        # Calculating the loss using Binary Cross Entropy Loss function\n",
        "        loss = F.binary_cross_entropy(probs.float(), batch_target,weight = torch.tensor(20))\n",
        "\n",
        "        losses.append(loss.item())\n",
        "        acc.append(accs)\n",
        "        f1.append(f1s)\n",
        "\n",
        "    return torch.mean(torch.tensor(losses)).item(), torch.mean(torch.tensor(acc)).item(), torch.mean(torch.tensor(f1)).item()\n"
      ],
      "metadata": {
        "id": "DUgR-B6z3Rbt"
      },
      "execution_count": 106,
      "outputs": []
    },
    {
      "cell_type": "code",
      "source": [
        "#passing training dataloader to evaluate the base perfomance\n",
        "evaluate(model, train_dl)"
      ],
      "metadata": {
        "colab": {
          "base_uri": "https://localhost:8080/"
        },
        "id": "2M9SkuJrsaG2",
        "outputId": "b412dfcb-fbeb-46fc-f8c0-2f8f7d2aa216"
      },
      "execution_count": 102,
      "outputs": [
        {
          "output_type": "execute_result",
          "data": {
            "text/plain": [
              "(0.03301083296537399, 0.9901369482893707, 0.911437936150971)"
            ]
          },
          "metadata": {},
          "execution_count": 102
        }
      ]
    },
    {
      "cell_type": "code",
      "source": [
        "#passing validation dataloader to evaluate the base perfomance\n",
        "evaluate(model, val_dl)"
      ],
      "metadata": {
        "colab": {
          "base_uri": "https://localhost:8080/"
        },
        "id": "Id3DMljZsytK",
        "outputId": "261c83f8-cb68-4689-e8c7-ed4d8636dd09"
      },
      "execution_count": 103,
      "outputs": [
        {
          "output_type": "execute_result",
          "data": {
            "text/plain": [
              "(0.21978628635406494, 0.9425199468085106, 0.41687888009048896)"
            ]
          },
          "metadata": {},
          "execution_count": 103
        }
      ]
    },
    {
      "cell_type": "markdown",
      "source": [
        "## Training on training dataloader and evaluating Validation dataloader"
      ],
      "metadata": {
        "id": "UZtYhU850hbW"
      }
    },
    {
      "cell_type": "code",
      "source": [
        "#Train the model batch by batch\n",
        "def fit(epochs,lr,model,train_dl,val_dl):\n",
        "  #tracking the history\n",
        "  history = []\n",
        "\n",
        "  #defining optimiser\n",
        "  optimiser = torch.optim.Adam(model.parameters(), lr,weight_decay=1e-5)\n",
        "\n",
        "  for epoch in range(epochs):\n",
        "    \n",
        "    #looping for all batches in train_dl for training\n",
        "    for batch in train_dl:\n",
        "      #get inputs and targets\n",
        "      batch_input, batch_target = batch\n",
        "\n",
        "      #pass inpts through model\n",
        "      batch_output = model(batch_input)\n",
        "\n",
        "      #convert outputs to probabilities and accessing 1 element\n",
        "      probs = torch.sigmoid(batch_output[:,0])\n",
        "\n",
        "\n",
        "      #calculating the loss using Binary Cross Entropy Loss function \n",
        "      #weight is to treat imbalanced dataset equally\n",
        "      loss = F.binary_cross_entropy(probs,batch_target, weight = torch.tensor(20))\n",
        "\n",
        "      #backward pass\n",
        "      loss.backward()\n",
        "\n",
        "      #updating the weigts\n",
        "      optimiser.step()\n",
        "\n",
        "      #empty the gradients\n",
        "      optimiser.zero_grad()\n",
        "\n",
        "    # evaluating on validataion dataloader\n",
        "    loss, acc,f1 = evaluate(model, val_dl) \n",
        "    print(\"Epoch {}; Loss {:.4f}; Accuracy {:.4f}; F1 {:.4f}\".format(epoch+1,loss,acc,f1))\n",
        "\n",
        "    history.append([loss,acc,f1])\n",
        "  return history"
      ],
      "metadata": {
        "id": "FRGh61cexnEl"
      },
      "execution_count": 104,
      "outputs": []
    },
    {
      "cell_type": "code",
      "source": [
        "history = []\n",
        "\n",
        "#to view the base performance on val dl before training\n",
        "history.append(evaluate(model,val_dl))"
      ],
      "metadata": {
        "id": "iVrbJRLJ_ewT"
      },
      "execution_count": 108,
      "outputs": []
    },
    {
      "cell_type": "code",
      "source": [
        "history"
      ],
      "metadata": {
        "colab": {
          "base_uri": "https://localhost:8080/"
        },
        "id": "l-lT_C9Y_tz-",
        "outputId": "f6ae1b9d-f927-4605-e457-1c99f5c28c88"
      },
      "execution_count": 109,
      "outputs": [
        {
          "output_type": "execute_result",
          "data": {
            "text/plain": [
              "[(14.169585227966309, 0.062012411347517726, 0.11606407894728198)]"
            ]
          },
          "metadata": {},
          "execution_count": 109
        }
      ]
    },
    {
      "cell_type": "code",
      "source": [
        "#fitting the model for training\n",
        "history += fit(5,0.001,model,train_dl,val_dl)"
      ],
      "metadata": {
        "colab": {
          "base_uri": "https://localhost:8080/"
        },
        "id": "DLPeXLRZ3nmA",
        "outputId": "dfa94c19-ec58-4270-99fb-e2f4d023324d"
      },
      "execution_count": 110,
      "outputs": [
        {
          "output_type": "stream",
          "name": "stdout",
          "text": [
            "Epoch 1; Loss 3.1557; Accuracy 0.9431; F1 0.3301\n",
            "Epoch 2; Loss 3.0499; Accuracy 0.9436; F1 0.3901\n",
            "Epoch 3; Loss 3.1124; Accuracy 0.9449; F1 0.4081\n",
            "Epoch 4; Loss 3.4860; Accuracy 0.9420; F1 0.4399\n",
            "Epoch 5; Loss 4.3445; Accuracy 0.9395; F1 0.3923\n"
          ]
        }
      ]
    },
    {
      "cell_type": "code",
      "source": [
        "history"
      ],
      "metadata": {
        "colab": {
          "base_uri": "https://localhost:8080/"
        },
        "id": "IrQJP5nU4MUE",
        "outputId": "4c75b984-dbd8-438a-aae9-6200ab17f85c"
      },
      "execution_count": 111,
      "outputs": [
        {
          "output_type": "execute_result",
          "data": {
            "text/plain": [
              "[(14.169585227966309, 0.062012411347517726, 0.11606407894728198),\n",
              " [3.155738353729248, 0.9430851063829787, 0.3300985915108832],\n",
              " [3.049851894378662, 0.9436170212765957, 0.3901024175713418],\n",
              " [3.1123504638671875, 0.9449024822695036, 0.40814905193029166],\n",
              " [3.485952854156494, 0.9420434397163121, 0.43994057363637756],\n",
              " [4.344474792480469, 0.9395279255319149, 0.3922892932327868]]"
            ]
          },
          "metadata": {},
          "execution_count": 111
        }
      ]
    },
    {
      "cell_type": "code",
      "source": [
        "#fitting the model for training with different epoch and learning rate\n",
        "history += fit(10,0.0001,model,train_dl,val_dl)"
      ],
      "metadata": {
        "colab": {
          "base_uri": "https://localhost:8080/"
        },
        "id": "Pp-ToIeTBi0y",
        "outputId": "a6456c6b-86fe-406a-b84e-883bae0770e3"
      },
      "execution_count": 112,
      "outputs": [
        {
          "output_type": "stream",
          "name": "stdout",
          "text": [
            "Epoch 1; Loss 5.3573; Accuracy 0.9376; F1 0.4118\n",
            "Epoch 2; Loss 5.9745; Accuracy 0.9403; F1 0.3827\n",
            "Epoch 3; Loss 6.2837; Accuracy 0.9393; F1 0.3898\n",
            "Epoch 4; Loss 6.5348; Accuracy 0.9396; F1 0.3885\n",
            "Epoch 5; Loss 6.7504; Accuracy 0.9393; F1 0.3870\n",
            "Epoch 6; Loss 6.8688; Accuracy 0.9390; F1 0.3912\n",
            "Epoch 7; Loss 6.9733; Accuracy 0.9386; F1 0.3885\n",
            "Epoch 8; Loss 7.1227; Accuracy 0.9391; F1 0.3880\n",
            "Epoch 9; Loss 7.2075; Accuracy 0.9387; F1 0.3891\n",
            "Epoch 10; Loss 7.1335; Accuracy 0.9382; F1 0.3849\n"
          ]
        }
      ]
    },
    {
      "cell_type": "code",
      "source": [
        "history"
      ],
      "metadata": {
        "colab": {
          "base_uri": "https://localhost:8080/"
        },
        "id": "_wwRzCorErs-",
        "outputId": "be7c19e2-a6e8-4c42-efed-4df1ea3d0e76"
      },
      "execution_count": 113,
      "outputs": [
        {
          "output_type": "execute_result",
          "data": {
            "text/plain": [
              "[(14.169585227966309, 0.062012411347517726, 0.11606407894728198),\n",
              " [3.155738353729248, 0.9430851063829787, 0.3300985915108832],\n",
              " [3.049851894378662, 0.9436170212765957, 0.3901024175713418],\n",
              " [3.1123504638671875, 0.9449024822695036, 0.40814905193029166],\n",
              " [3.485952854156494, 0.9420434397163121, 0.43994057363637756],\n",
              " [4.344474792480469, 0.9395279255319149, 0.3922892932327868],\n",
              " [5.357297420501709, 0.9376440602836879, 0.411831692002532],\n",
              " [5.974538803100586, 0.9402593085106383, 0.38272353256177427],\n",
              " [6.283735752105713, 0.9393284574468085, 0.3897880288516439],\n",
              " [6.534787654876709, 0.939561170212766, 0.3884834536343287],\n",
              " [6.750418663024902, 0.9392619680851064, 0.3870072468805295],\n",
              " [6.868807315826416, 0.9389627659574468, 0.3912032015654536],\n",
              " [6.973319053649902, 0.9385970744680852, 0.3884574872625153],\n",
              " [7.1227264404296875, 0.9390625, 0.3879613029105244],\n",
              " [7.207514762878418, 0.9387189716312058, 0.3891217072595998],\n",
              " [7.133508205413818, 0.9381870567375887, 0.384891718030298]]"
            ]
          },
          "metadata": {},
          "execution_count": 113
        }
      ]
    },
    {
      "cell_type": "code",
      "source": [
        "losses = [item[0] for item in history]\n",
        "Accuracy = [item[1] for item in history]\n",
        "F1 = [item[2] for item in history]"
      ],
      "metadata": {
        "id": "4ev2-7ODCjPj"
      },
      "execution_count": 115,
      "outputs": []
    },
    {
      "cell_type": "markdown",
      "source": [
        "## Plotting"
      ],
      "metadata": {
        "id": "rOYDetqLNUnF"
      }
    },
    {
      "cell_type": "code",
      "source": [
        "\n",
        "import matplotlib.pyplot as plt\n"
      ],
      "metadata": {
        "id": "9OeJI-_SE-cI"
      },
      "execution_count": 116,
      "outputs": []
    },
    {
      "cell_type": "code",
      "source": [
        "plt.title('losses')\n",
        "plt.plot(losses)"
      ],
      "metadata": {
        "colab": {
          "base_uri": "https://localhost:8080/",
          "height": 469
        },
        "id": "PXE5WSI0FHPH",
        "outputId": "dfdef1c9-c8f8-4aed-8f05-a8cbb5096545"
      },
      "execution_count": 117,
      "outputs": [
        {
          "output_type": "execute_result",
          "data": {
            "text/plain": [
              "[<matplotlib.lines.Line2D at 0x7f7471b90d00>]"
            ]
          },
          "metadata": {},
          "execution_count": 117
        },
        {
          "output_type": "display_data",
          "data": {
            "text/plain": [
              "<Figure size 640x480 with 1 Axes>"
            ],
            "image/png": "[encoded data removed]"
          },
          "metadata": {}
        }
      ]
    },
    {
      "cell_type": "code",
      "source": [
        "plt.title('Accuracy')\n",
        "plt.plot(Accuracy)"
      ],
      "metadata": {
        "colab": {
          "base_uri": "https://localhost:8080/",
          "height": 469
        },
        "id": "Wtm-CScbFNGH",
        "outputId": "ee7efa05-bf1b-4c9e-d848-be133bda0b66"
      },
      "execution_count": 118,
      "outputs": [
        {
          "output_type": "execute_result",
          "data": {
            "text/plain": [
              "[<matplotlib.lines.Line2D at 0x7f746f928250>]"
            ]
          },
          "metadata": {},
          "execution_count": 118
        },
        {
          "output_type": "display_data",
          "data": {
            "text/plain": [
              "<Figure size 640x480 with 1 Axes>"
            ],
            "image/png": "[encoded data removed]"
          },
          "metadata": {}
        }
      ]
    },
    {
      "cell_type": "code",
      "source": [
        "plt.title('F1 score')\n",
        "plt.plot(F1)"
      ],
      "metadata": {
        "colab": {
          "base_uri": "https://localhost:8080/",
          "height": 469
        },
        "id": "OwYMD5-vFTFa",
        "outputId": "27d7d408-017b-4d19-94bf-e7e1d404befd"
      },
      "execution_count": 119,
      "outputs": [
        {
          "output_type": "execute_result",
          "data": {
            "text/plain": [
              "[<matplotlib.lines.Line2D at 0x7f746f920130>]"
            ]
          },
          "metadata": {},
          "execution_count": 119
        },
        {
          "output_type": "display_data",
          "data": {
            "text/plain": [
              "<Figure size 640x480 with 1 Axes>"
            ],
            "image/png": "[encoded data removed]"
          },
          "metadata": {}
        }
      ]
    },
    {
      "cell_type": "markdown",
      "source": [
        "# PREDICTION ON SAMPLE DATA"
      ],
      "metadata": {
        "id": "dBvuRRaYH4xI"
      }
    },
    {
      "cell_type": "code",
      "source": [
        "sample_test = raw_df.sample(10)\n",
        "sample_test"
      ],
      "metadata": {
        "colab": {
          "base_uri": "https://localhost:8080/",
          "height": 363
        },
        "id": "EgB9B2_jFWOQ",
        "outputId": "f2bdd20d-14e6-44e2-9999-52b800e86cd8"
      },
      "execution_count": 144,
      "outputs": [
        {
          "output_type": "execute_result",
          "data": {
            "text/plain": [
              "                          qid  \\\n",
              "239537   2edc9a1318cea0fc7ba7   \n",
              "48762    098cf2638ec62ae0d7ee   \n",
              "808537   9e70b2a0b2e492ef0062   \n",
              "1022934  c8753483e7f2ca5e9c80   \n",
              "1033495  ca83b63e653a85dadb56   \n",
              "807025   9e2111fd1cad7f603b1f   \n",
              "1044713  ccb55a6f40937c07e8c1   \n",
              "269951   34d80f0379e62be8b10a   \n",
              "419856   5248666fd5c905016e0a   \n",
              "725075   8dfa12a7749e60aab63f   \n",
              "\n",
              "                                             question_text  target  \n",
              "239537   How is Ukraine today? Has the crisis with Russ...       0  \n",
              "48762    What do you think about lesbian, gay, bisexual...       1  \n",
              "808537   How can I attract the online buyers to my eCom...       0  \n",
              "1022934  Where are consciousness and thoughts coming fr...       0  \n",
              "1033495  How is T.I.M.E, Gurgaon for CAT preparation? I...       0  \n",
              "807025                What did early colonists do for fun?       0  \n",
              "1044713  Are there online free books available to learn...       0  \n",
              "269951   What are the benefits of taking a flight from ...       0  \n",
              "419856   Is 22 too old to start learning computer engin...       0  \n",
              "725075               How is the human life in Switzerland?       0  "
            ],
            "text/html": [
              "\n",
              "  <div id=\"df-e5ae914e-1984-4d87-97b1-5d6fd3cb7f37\">\n",
              "    <div class=\"colab-df-container\">\n",
              "      <div>\n",
              "<style scoped>\n",
              "    .dataframe tbody tr th:only-of-type {\n",
              "        vertical-align: middle;\n",
              "    }\n",
              "\n",
              "    .dataframe tbody tr th {\n",
              "        vertical-align: top;\n",
              "    }\n",
              "\n",
              "    .dataframe thead th {\n",
              "        text-align: right;\n",
              "    }\n",
              "</style>\n",
              "<table border=\"1\" class=\"dataframe\">\n",
              "  <thead>\n",
              "    <tr style=\"text-align: right;\">\n",
              "      <th></th>\n",
              "      <th>qid</th>\n",
              "      <th>question_text</th>\n",
              "      <th>target</th>\n",
              "    </tr>\n",
              "  </thead>\n",
              "  <tbody>\n",
              "    <tr>\n",
              "      <th>239537</th>\n",
              "      <td>2edc9a1318cea0fc7ba7</td>\n",
              "      <td>How is Ukraine today? Has the crisis with Russ...</td>\n",
              "      <td>0</td>\n",
              "    </tr>\n",
              "    <tr>\n",
              "      <th>48762</th>\n",
              "      <td>098cf2638ec62ae0d7ee</td>\n",
              "      <td>What do you think about lesbian, gay, bisexual...</td>\n",
              "      <td>1</td>\n",
              "    </tr>\n",
              "    <tr>\n",
              "      <th>808537</th>\n",
              "      <td>9e70b2a0b2e492ef0062</td>\n",
              "      <td>How can I attract the online buyers to my eCom...</td>\n",
              "      <td>0</td>\n",
              "    </tr>\n",
              "    <tr>\n",
              "      <th>1022934</th>\n",
              "      <td>c8753483e7f2ca5e9c80</td>\n",
              "      <td>Where are consciousness and thoughts coming fr...</td>\n",
              "      <td>0</td>\n",
              "    </tr>\n",
              "    <tr>\n",
              "      <th>1033495</th>\n",
              "      <td>ca83b63e653a85dadb56</td>\n",
              "      <td>How is T.I.M.E, Gurgaon for CAT preparation? I...</td>\n",
              "      <td>0</td>\n",
              "    </tr>\n",
              "    <tr>\n",
              "      <th>807025</th>\n",
              "      <td>9e2111fd1cad7f603b1f</td>\n",
              "      <td>What did early colonists do for fun?</td>\n",
              "      <td>0</td>\n",
              "    </tr>\n",
              "    <tr>\n",
              "      <th>1044713</th>\n",
              "      <td>ccb55a6f40937c07e8c1</td>\n",
              "      <td>Are there online free books available to learn...</td>\n",
              "      <td>0</td>\n",
              "    </tr>\n",
              "    <tr>\n",
              "      <th>269951</th>\n",
              "      <td>34d80f0379e62be8b10a</td>\n",
              "      <td>What are the benefits of taking a flight from ...</td>\n",
              "      <td>0</td>\n",
              "    </tr>\n",
              "    <tr>\n",
              "      <th>419856</th>\n",
              "      <td>5248666fd5c905016e0a</td>\n",
              "      <td>Is 22 too old to start learning computer engin...</td>\n",
              "      <td>0</td>\n",
              "    </tr>\n",
              "    <tr>\n",
              "      <th>725075</th>\n",
              "      <td>8dfa12a7749e60aab63f</td>\n",
              "      <td>How is the human life in Switzerland?</td>\n",
              "      <td>0</td>\n",
              "    </tr>\n",
              "  </tbody>\n",
              "</table>\n",
              "</div>\n",
              "      <button class=\"colab-df-convert\" onclick=\"convertToInteractive('df-e5ae914e-1984-4d87-97b1-5d6fd3cb7f37')\"\n",
              "              title=\"Convert this dataframe to an interactive table.\"\n",
              "              style=\"display:none;\">\n",
              "        \n",
              "  <svg xmlns=\"http://www.w3.org/2000/svg\" height=\"24px\"viewBox=\"0 0 24 24\"\n",
              "       width=\"24px\">\n",
              "    <path d=\"M0 0h24v24H0V0z\" fill=\"none\"/>\n",
              "    <path d=\"M18.56 5.44l.94 2.06.94-2.06 2.06-.94-2.06-.94-.94-2.06-.94 2.06-2.06.94zm-11 1L8.5 8.5l.94-2.06 2.06-.94-2.06-.94L8.5 2.5l-.94 2.06-2.06.94zm10 10l.94 2.06.94-2.06 2.06-.94-2.06-.94-.94-2.06-.94 2.06-2.06.94z\"/><path d=\"M17.41 7.96l-1.37-1.37c-.4-.4-.92-.59-1.43-.59-.52 0-1.04.2-1.43.59L10.3 9.45l-7.72 7.72c-.78.78-.78 2.05 0 2.83L4 21.41c.39.39.9.59 1.41.59.51 0 1.02-.2 1.41-.59l7.78-7.78 2.81-2.81c.8-.78.8-2.07 0-2.86zM5.41 20L4 18.59l7.72-7.72 1.47 1.35L5.41 20z\"/>\n",
              "  </svg>\n",
              "      </button>\n",
              "      \n",
              "  <style>\n",
              "    .colab-df-container {\n",
              "      display:flex;\n",
              "      flex-wrap:wrap;\n",
              "      gap: 12px;\n",
              "    }\n",
              "\n",
              "    .colab-df-convert {\n",
              "      background-color: #E8F0FE;\n",
              "      border: none;\n",
              "      border-radius: 50%;\n",
              "      cursor: pointer;\n",
              "      display: none;\n",
              "      fill: #1967D2;\n",
              "      height: 32px;\n",
              "      padding: 0 0 0 0;\n",
              "      width: 32px;\n",
              "    }\n",
              "\n",
              "    .colab-df-convert:hover {\n",
              "      background-color: #E2EBFA;\n",
              "      box-shadow: 0px 1px 2px rgba(60, 64, 67, 0.3), 0px 1px 3px 1px rgba(60, 64, 67, 0.15);\n",
              "      fill: #174EA6;\n",
              "    }\n",
              "\n",
              "    [theme=dark] .colab-df-convert {\n",
              "      background-color: #3B4455;\n",
              "      fill: #D2E3FC;\n",
              "    }\n",
              "\n",
              "    [theme=dark] .colab-df-convert:hover {\n",
              "      background-color: #434B5C;\n",
              "      box-shadow: 0px 1px 3px 1px rgba(0, 0, 0, 0.15);\n",
              "      filter: drop-shadow(0px 1px 2px rgba(0, 0, 0, 0.3));\n",
              "      fill: #FFFFFF;\n",
              "    }\n",
              "  </style>\n",
              "\n",
              "      <script>\n",
              "        const buttonEl =\n",
              "          document.querySelector('#df-e5ae914e-1984-4d87-97b1-5d6fd3cb7f37 button.colab-df-convert');\n",
              "        buttonEl.style.display =\n",
              "          google.colab.kernel.accessAllowed ? 'block' : 'none';\n",
              "\n",
              "        async function convertToInteractive(key) {\n",
              "          const element = document.querySelector('#df-e5ae914e-1984-4d87-97b1-5d6fd3cb7f37');\n",
              "          const dataTable =\n",
              "            await google.colab.kernel.invokeFunction('convertToInteractive',\n",
              "                                                     [key], {});\n",
              "          if (!dataTable) return;\n",
              "\n",
              "          const docLinkHtml = 'Like what you see? Visit the ' +\n",
              "            '<a target=\"_blank\" href=https://colab.research.google.com/notebooks/data_table.ipynb>data table notebook</a>'\n",
              "            + ' to learn more about interactive tables.';\n",
              "          element.innerHTML = '';\n",
              "          dataTable['output_type'] = 'display_data';\n",
              "          await google.colab.output.renderOutput(dataTable, element);\n",
              "          const docLink = document.createElement('div');\n",
              "          docLink.innerHTML = docLinkHtml;\n",
              "          element.appendChild(docLink);\n",
              "        }\n",
              "      </script>\n",
              "    </div>\n",
              "  </div>\n",
              "  "
            ]
          },
          "metadata": {},
          "execution_count": 144
        }
      ]
    },
    {
      "cell_type": "code",
      "source": [
        "def predict(df):\n",
        "  inputs = Vectorizer.transform(df.question_text)\n",
        "  input_tensors = torch.tensor(inputs.toarray()).float()\n",
        "  outputs= model(input_tensors)\n",
        "  probs = torch.sigmoid(outputs[:,0])\n",
        "  preds = (probs>0.5).int()\n",
        "  return preds"
      ],
      "metadata": {
        "id": "6sx4y5FHIL7_"
      },
      "execution_count": 145,
      "outputs": []
    },
    {
      "cell_type": "code",
      "source": [
        "predict(sample_test)"
      ],
      "metadata": {
        "colab": {
          "base_uri": "https://localhost:8080/"
        },
        "id": "NdzOJH-7I32G",
        "outputId": "79cae7de-ac55-46b3-8ed0-f946dc237cef"
      },
      "execution_count": 146,
      "outputs": [
        {
          "output_type": "execute_result",
          "data": {
            "text/plain": [
              "tensor([0, 1, 0, 0, 0, 0, 0, 0, 0, 0], dtype=torch.int32)"
            ]
          },
          "metadata": {},
          "execution_count": 146
        }
      ]
    },
    {
      "cell_type": "code",
      "source": [
        "sample_test.target"
      ],
      "metadata": {
        "colab": {
          "base_uri": "https://localhost:8080/"
        },
        "id": "hyIui7lVI6Fq",
        "outputId": "930e6f26-15a3-4bf0-b619-a3be130cc0e3"
      },
      "execution_count": 147,
      "outputs": [
        {
          "output_type": "execute_result",
          "data": {
            "text/plain": [
              "239537     0\n",
              "48762      1\n",
              "808537     0\n",
              "1022934    0\n",
              "1033495    0\n",
              "807025     0\n",
              "1044713    0\n",
              "269951     0\n",
              "419856     0\n",
              "725075     0\n",
              "Name: target, dtype: int64"
            ]
          },
          "metadata": {},
          "execution_count": 147
        }
      ]
    },
    {
      "cell_type": "markdown",
      "source": [
        "Model Predicted correctly and may predict incorrect due to imbalance"
      ],
      "metadata": {
        "id": "HMitpiv6JZCK"
      }
    },
    {
      "cell_type": "code",
      "source": [
        "def predict_text(text):\n",
        "  df = pd.DataFrame({'question_text': [text]})\n",
        "  inputs = Vectorizer.transform(df.question_text)\n",
        "  input_tensors = torch.tensor(inputs.toarray()).float()\n",
        "  outputs= model(input_tensors)\n",
        "  probs = torch.sigmoid(outputs[:,0])\n",
        "  preds = (probs>0.5).int()\n",
        "  return preds\n",
        "\n",
        "\n",
        "#prdiction on question for one sincere and one insincere questions\n",
        "prediction_sincere = predict_text('What is the function of a fuel cell?')\n",
        "print(prediction_sincere) \n",
        "\n",
        "prediction_insincere = predict_text(\"Why can't liberals realize that they are stupid?\")\n",
        "print(prediction_insincere)"
      ],
      "metadata": {
        "colab": {
          "base_uri": "https://localhost:8080/"
        },
        "id": "JbRm3zccJJJv",
        "outputId": "d4334a20-7554-4c1e-cce7-8818dcc904c2"
      },
      "execution_count": 156,
      "outputs": [
        {
          "output_type": "stream",
          "name": "stdout",
          "text": [
            "tensor([0], dtype=torch.int32)\n",
            "tensor([1], dtype=torch.int32)\n"
          ]
        }
      ]
    },
    {
      "cell_type": "markdown",
      "source": [
        "From the input, we can see that the Model Flagged insincere question accurately. "
      ],
      "metadata": {
        "id": "wP6nLCz9NbVd"
      }
    },
    {
      "cell_type": "code",
      "source": [],
      "metadata": {
        "id": "X0t_4fEtJ8XU"
      },
      "execution_count": null,
      "outputs": []
    }
  ]
}